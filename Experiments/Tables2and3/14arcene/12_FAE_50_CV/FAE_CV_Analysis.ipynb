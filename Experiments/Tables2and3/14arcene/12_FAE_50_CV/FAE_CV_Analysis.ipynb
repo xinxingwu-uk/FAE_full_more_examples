{
 "cells": [
  {
   "cell_type": "code",
   "execution_count": 1,
   "metadata": {},
   "outputs": [],
   "source": [
    "import numpy as np\n",
    "import pandas as pd"
   ]
  },
  {
   "cell_type": "code",
   "execution_count": 2,
   "metadata": {},
   "outputs": [
    {
     "name": "stdout",
     "output_type": "stream",
     "text": [
      "Mean of testing accuarcy: 0.8059999999999999\n",
      "Std of testing accuarcy: 0.0754254598925323\n",
      "Mean of testing Linear reconstruction: 9.246497503770002e+21\n",
      "Std of testing Linear reconstruction: 6.472548252639003e+22\n",
      "Mean of time: 11800.194652795792\n",
      "Std of time: 4433.161385342008\n"
     ]
    }
   ],
   "source": [
    "p_is_use_bias=False\n",
    "path=\"./log/FAE_results_bias_\"+str(p_is_use_bias)+\".csv\"\n",
    "\n",
    "results_analysis=np.array(pd.read_csv(path,header=None))\n",
    "results_analysis_test_acc=results_analysis[:,3][np.where(results_analysis[:,3]>=0)]\n",
    "print(\"Mean of testing accuarcy:\",np.mean(results_analysis_test_acc))\n",
    "print(\"Std of testing accuarcy:\",np.std(results_analysis_test_acc))\n",
    "\n",
    "results_analysis_linear_rec=results_analysis[:,4][np.where(results_analysis[:,4]>=0)]\n",
    "print(\"Mean of testing Linear reconstruction:\",np.mean(results_analysis_linear_rec))\n",
    "print(\"Std of testing Linear reconstruction:\",np.std(results_analysis_linear_rec))\n",
    "\n",
    "time_path=\"./log/FAE_time_bias_\"+str(p_is_use_bias)+\".csv\"\n",
    "time_analysis=np.array(pd.read_csv(time_path,header=None))\n",
    "print(\"Mean of time:\",np.mean(time_analysis))\n",
    "print(\"Std of time:\",np.std(time_analysis))"
   ]
  },
  {
   "cell_type": "code",
   "execution_count": 3,
   "metadata": {},
   "outputs": [
    {
     "data": {
      "text/plain": [
       "array([2.50926960e-02, 1.97899659e-02, 2.16075848e-02, 2.16057130e-02,\n",
       "       2.19763765e-02, 2.06480119e-02, 2.36966532e-02, 2.46510132e-02,\n",
       "       2.18582985e-02, 2.52065362e-02, 2.23834723e-02, 2.43476672e-02,\n",
       "       2.18542570e-02, 2.24154092e-02, 2.02141858e-02, 2.13821991e-02,\n",
       "       2.49356715e-02, 2.07751704e-02, 2.03895247e-02, 2.09436815e-02,\n",
       "       2.47461155e-02, 1.85845553e-02, 4.62324875e+23, 2.43843963e-02,\n",
       "       1.94101440e-02, 2.13489792e-02, 2.99537004e-02, 2.25393955e-02,\n",
       "       2.21493594e-02, 2.17310413e-02, 2.21594049e-02, 2.08796494e-02,\n",
       "       2.03014113e-02, 2.43529063e-02, 1.89696948e-02, 1.96874521e-02,\n",
       "       2.33628427e-02, 2.55443888e-02, 1.95169817e-02, 2.35124589e-02,\n",
       "       2.53768073e-02, 2.33815404e-02, 3.15208308e-01, 2.24559772e-02,\n",
       "       2.61076894e-02, 2.19055584e-02, 2.10274623e-02, 2.72047304e-02,\n",
       "       2.01532603e-02, 2.21331575e-02])"
      ]
     },
     "execution_count": 3,
     "metadata": {},
     "output_type": "execute_result"
    }
   ],
   "source": [
    "results_analysis_linear_rec"
   ]
  },
  {
   "cell_type": "code",
   "execution_count": 4,
   "metadata": {},
   "outputs": [
    {
     "name": "stdout",
     "output_type": "stream",
     "text": [
      "Mean of testing accuarcy: 0.8315\n",
      "Std of testing accuarcy: 0.05357471418495857\n",
      "Mean of testing Linear reconstruction: 0.02542257580047872\n",
      "Std of testing Linear reconstruction: 0.013329058579238265\n",
      "Mean of time: 11791.595135145188\n",
      "Std of time: 4505.147579108249\n"
     ]
    }
   ],
   "source": [
    "p_is_use_bias=True\n",
    "path=\"./log/FAE_results_bias_\"+str(p_is_use_bias)+\".csv\"\n",
    "\n",
    "results_analysis=np.array(pd.read_csv(path,header=None))\n",
    "results_analysis_test_acc=results_analysis[:,3][np.where(results_analysis[:,3]>=0)]\n",
    "print(\"Mean of testing accuarcy:\",np.mean(results_analysis_test_acc))\n",
    "print(\"Std of testing accuarcy:\",np.std(results_analysis_test_acc))\n",
    "\n",
    "results_analysis_linear_rec=results_analysis[:,4][np.where(results_analysis[:,4]>=0)]\n",
    "print(\"Mean of testing Linear reconstruction:\",np.mean(results_analysis_linear_rec))\n",
    "print(\"Std of testing Linear reconstruction:\",np.std(results_analysis_linear_rec))\n",
    "\n",
    "time_path=\"./log/FAE_time_bias_\"+str(p_is_use_bias)+\".csv\"\n",
    "time_analysis=np.array(pd.read_csv(time_path,header=None))\n",
    "print(\"Mean of time:\",np.mean(time_analysis))\n",
    "print(\"Std of time:\",np.std(time_analysis))"
   ]
  },
  {
   "cell_type": "code",
   "execution_count": null,
   "metadata": {},
   "outputs": [],
   "source": []
  }
 ],
 "metadata": {
  "kernelspec": {
   "display_name": "Python 3",
   "language": "python",
   "name": "python3"
  },
  "language_info": {
   "codemirror_mode": {
    "name": "ipython",
    "version": 3
   },
   "file_extension": ".py",
   "mimetype": "text/x-python",
   "name": "python",
   "nbconvert_exporter": "python",
   "pygments_lexer": "ipython3",
   "version": "3.7.1"
  },
  "widgets": {
   "application/vnd.jupyter.widget-state+json": {
    "state": {},
    "version_major": 2,
    "version_minor": 0
   }
  }
 },
 "nbformat": 4,
 "nbformat_minor": 4
}
