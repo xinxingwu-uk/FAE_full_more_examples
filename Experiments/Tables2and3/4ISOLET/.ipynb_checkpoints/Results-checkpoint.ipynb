{
 "cells": [
  {
   "cell_type": "code",
   "execution_count": null,
   "metadata": {},
   "outputs": [],
   "source": [
    "import numpy as np\n",
    "import pandas as pd\n",
    "import os"
   ]
  },
  {
   "cell_type": "code",
   "execution_count": null,
   "metadata": {},
   "outputs": [],
   "source": [
    "fold_path=['1_LS_CV','2_SPEC_CV','3_NDFS_CV','4_AEFS_CV','5_UDFS_CV','6_MCFS_CV','7_PFA_CV','8_InfFS_CV','9_AgnoSS_CV','10_CAE_CV','11_FAE_50_CV','12_FAE_36_CV']"
   ]
  },
  {
   "cell_type": "code",
   "execution_count": null,
   "metadata": {},
   "outputs": [],
   "source": [
    "cv_times_from=0\n",
    "cv_times_to=5"
   ]
  },
  {
   "cell_type": "code",
   "execution_count": null,
   "metadata": {},
   "outputs": [],
   "source": [
    "file_path=\"/log/\"\n",
    "\n",
    "for fold_path_i in fold_path:\n",
    "    fold_name=fold_path_i.split('_')[1]\n",
    "    print(fold_name+\":\\n\")\n",
    "    \n",
    "    if fold_path_i in ['11_FAE_50_CV','12_FAE_36_CV']:\n",
    "        print(\"Do not use bias!\",fold_path_i)\n",
    "        p_is_use_bias=False\n",
    "        path_results='./'+fold_path_i+file_path+\"FAE_results_bias_\"+str(p_is_use_bias)+\".csv\" \n",
    "        results_analysis=np.array(pd.read_csv(path_results,header=None))\n",
    "        results_analysis_test_acc__=results_analysis[:,3]\n",
    "        results_analysis_test_acc_=results_analysis_test_acc__[np.where(results_analysis[:,3]>=0)]\n",
    "        cv_cal_times=len(results_analysis_test_acc__)\n",
    "        if cv_cal_times >=(cv_times_to-cv_times_from):\n",
    "        \n",
    "            print(\"cv times: \",cv_cal_times)\n",
    "        \n",
    "            results_analysis_test_acc=results_analysis_test_acc_[cv_times_from:cv_times_to]\n",
    "            results_analysis_linear_rec=results_analysis[:,4][np.where(results_analysis[:,4]>=0)][cv_times_from:cv_times_to]\n",
    "        \n",
    "            print(\"Testing accuarcy:%.3f\"%np.mean(results_analysis_test_acc),\"±%.4f\"%np.std(results_analysis_test_acc))\n",
    "            print(\"Testing Linear reconstruction: %.3f\" % np.mean(results_analysis_linear_rec),\"±%.4f\"%np.std(results_analysis_linear_rec))\n",
    "\n",
    "            path_time='./'+fold_path_i+file_path+\"FAE_time_bias_\"+str(p_is_use_bias)+\".csv\"\n",
    "            time_analysis=np.array(pd.read_csv(path_time,header=None))[cv_times_from:cv_times_to]\n",
    "    \n",
    "            print(\"Calculation times: \", len(results_analysis_test_acc))  \n",
    "        \n",
    "            print(\"Use bias!\",fold_path_i)\n",
    "            p_is_use_bias=True\n",
    "            path_results='./'+fold_path_i+file_path+\"FAE_results_bias_\"+str(p_is_use_bias)+\".csv\"  \n",
    "            results_analysis=np.array(pd.read_csv(path_results,header=None))\n",
    "            results_analysis_test_acc=results_analysis[:,3][np.where(results_analysis[:,3]>=0)][cv_times_from:cv_times_to]\n",
    "            results_analysis_linear_rec=results_analysis[:,4][np.where(results_analysis[:,4]>=0)][cv_times_from:cv_times_to]\n",
    "\n",
    "            print(results_analysis_test_acc)\n",
    "            print(results_analysis_linear_rec)\n",
    "            print(\"Testing accuarcy:%.3f\"%np.mean(results_analysis_test_acc),\"±%.4f\"%np.std(results_analysis_test_acc))\n",
    "            print(\"Testing Linear reconstruction: %.3f\" % np.mean(results_analysis_linear_rec),\"±%.4f\"%np.std(results_analysis_linear_rec))\n",
    "\n",
    "            path_time='./'+fold_path_i+file_path+\"FAE_time_bias_\"+str(p_is_use_bias)+\".csv\"\n",
    "            time_analysis=np.array(pd.read_csv(path_time,header=None))[cv_times_from:cv_times_to]\n",
    "    \n",
    "            print(\"Calculation times: \", len(results_analysis_test_acc))          \n",
    "    \n",
    "    else:\n",
    "        path_results='./'+fold_path_i+file_path+fold_name+'_results.csv'\n",
    "        \n",
    "        if os.path.exists(path_results):\n",
    "            results_analysis=np.array(pd.read_csv(path_results,header=None))\n",
    "\n",
    "            results_analysis_test_acc__=results_analysis[:,3]\n",
    "            results_analysis_test_acc_=results_analysis_test_acc__[np.where(results_analysis[:,3]>=0)]\n",
    "            cv_cal_times=len(results_analysis_test_acc__)\n",
    "                \n",
    "            cv_cal_times=len(results_analysis_test_acc_)\n",
    "            if cv_cal_times>=(cv_times_to-cv_times_from):\n",
    "\n",
    "                print(\"cv times: \",cv_cal_times)        \n",
    "                \n",
    "                results_analysis_test_acc=results_analysis_test_acc_[cv_times_from:cv_times_to]\n",
    "                results_analysis_linear_rec=results_analysis[:,4][np.where(results_analysis[:,4]>=0)][cv_times_from:cv_times_to]\n",
    "\n",
    "                print(\"Testing accuarcy:%.3f\"%np.mean(results_analysis_test_acc),\"±%.4f\"%np.std(results_analysis_test_acc))\n",
    "                print(\"Testing Linear reconstruction: %.3f\" % np.mean(results_analysis_linear_rec),\"±%.4f\"%np.std(results_analysis_linear_rec))\n",
    "\n",
    "                path_time='./'+fold_path_i+file_path+fold_path_i.split('_')[1]+'_time.csv'\n",
    "                time_analysis=np.array(pd.read_csv(path_time,header=None))[cv_times_from:cv_times_to]\n",
    "    \n",
    "                print(\"Calculation times: \", len(results_analysis_test_acc))\n",
    "    \n",
    "                print(\"\\n\\n\")\n",
    "        else:\n",
    "            print(\"Nan\")\n",
    "            print(\"\\n\\n\")"
   ]
  },
  {
   "cell_type": "code",
   "execution_count": null,
   "metadata": {},
   "outputs": [],
   "source": []
  }
 ],
 "metadata": {
  "kernelspec": {
   "display_name": "Python 3",
   "language": "python",
   "name": "python3"
  },
  "language_info": {
   "codemirror_mode": {
    "name": "ipython",
    "version": 3
   },
   "file_extension": ".py",
   "mimetype": "text/x-python",
   "name": "python",
   "nbconvert_exporter": "python",
   "pygments_lexer": "ipython3",
   "version": "3.7.1"
  },
  "widgets": {
   "application/vnd.jupyter.widget-state+json": {
    "state": {},
    "version_major": 2,
    "version_minor": 0
   }
  }
 },
 "nbformat": 4,
 "nbformat_minor": 4
}
