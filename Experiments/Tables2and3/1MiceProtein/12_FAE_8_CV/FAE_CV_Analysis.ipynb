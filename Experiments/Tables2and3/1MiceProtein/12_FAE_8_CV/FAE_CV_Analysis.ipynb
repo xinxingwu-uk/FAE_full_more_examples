{
 "cells": [
  {
   "cell_type": "code",
   "execution_count": 1,
   "metadata": {},
   "outputs": [],
   "source": [
    "import numpy as np\n",
    "import pandas as pd"
   ]
  },
  {
   "cell_type": "code",
   "execution_count": 2,
   "metadata": {},
   "outputs": [
    {
     "name": "stdout",
     "output_type": "stream",
     "text": [
      "Mean of testing accuarcy: 0.8882407407407408\n",
      "Std of testing accuarcy: 0.06798472000115259\n",
      "Mean of testing Linear reconstruction: 0.012740924910400703\n",
      "Std of testing Linear reconstruction: 0.003692386473931694\n",
      "Mean of time: 123.98840877532959\n",
      "Std of time: 27.760925679720078\n"
     ]
    }
   ],
   "source": [
    "p_is_use_bias=False\n",
    "path=\"./log/FAE_results_bias_\"+str(p_is_use_bias)+\".csv\"\n",
    "\n",
    "results_analysis=np.array(pd.read_csv(path,header=None))\n",
    "results_analysis_test_acc=results_analysis[:,3][np.where(results_analysis[:,3]>=0)]\n",
    "print(\"Mean of testing accuarcy:\",np.mean(results_analysis_test_acc))\n",
    "print(\"Std of testing accuarcy:\",np.std(results_analysis_test_acc))\n",
    "\n",
    "results_analysis_linear_rec=results_analysis[:,4][np.where(results_analysis[:,4]>=0)]\n",
    "print(\"Mean of testing Linear reconstruction:\",np.mean(results_analysis_linear_rec))\n",
    "print(\"Std of testing Linear reconstruction:\",np.std(results_analysis_linear_rec))\n",
    "\n",
    "time_path=\"./log/FAE_time_bias_\"+str(p_is_use_bias)+\".csv\"\n",
    "time_analysis=np.array(pd.read_csv(time_path,header=None))\n",
    "print(\"Mean of time:\",np.mean(time_analysis))\n",
    "print(\"Std of time:\",np.std(time_analysis))"
   ]
  },
  {
   "cell_type": "code",
   "execution_count": 3,
   "metadata": {},
   "outputs": [
    {
     "name": "stdout",
     "output_type": "stream",
     "text": [
      "Calculation times:  50\n",
      "Testing accuarcy:0.888 ±0.0680\n",
      "Testing Linear reconstruction: 0.013 ±0.0037\n"
     ]
    }
   ],
   "source": [
    "print(\"Calculation times: \", len(results_analysis_test_acc))\n",
    "\n",
    "print(\"Testing accuarcy:%.3f\"%np.mean(results_analysis_test_acc),\"±%.4f\"%np.std(results_analysis_test_acc))\n",
    "\n",
    "print(\"Testing Linear reconstruction: %.3f\" % np.mean(results_analysis_linear_rec),\"±%.4f\"%np.std(results_analysis_linear_rec))"
   ]
  },
  {
   "cell_type": "code",
   "execution_count": 4,
   "metadata": {},
   "outputs": [
    {
     "name": "stdout",
     "output_type": "stream",
     "text": [
      "Mean of testing accuarcy: 0.8286111111111112\n",
      "Std of testing accuarcy: 0.13000438554383847\n",
      "Mean of testing Linear reconstruction: 0.014877612488206958\n",
      "Std of testing Linear reconstruction: 0.004294433989655784\n",
      "Mean of time: 127.01791074752808\n",
      "Std of time: 44.05474903295521\n"
     ]
    }
   ],
   "source": [
    "p_is_use_bias=True\n",
    "path=\"./log/FAE_results_bias_\"+str(p_is_use_bias)+\".csv\"\n",
    "\n",
    "results_analysis=np.array(pd.read_csv(path,header=None))\n",
    "results_analysis_test_acc=results_analysis[:,3][np.where(results_analysis[:,3]>=0)]\n",
    "print(\"Mean of testing accuarcy:\",np.mean(results_analysis_test_acc))\n",
    "print(\"Std of testing accuarcy:\",np.std(results_analysis_test_acc))\n",
    "\n",
    "results_analysis_linear_rec=results_analysis[:,4][np.where(results_analysis[:,4]>=0)]\n",
    "print(\"Mean of testing Linear reconstruction:\",np.mean(results_analysis_linear_rec))\n",
    "print(\"Std of testing Linear reconstruction:\",np.std(results_analysis_linear_rec))\n",
    "\n",
    "time_path=\"./log/FAE_time_bias_\"+str(p_is_use_bias)+\".csv\"\n",
    "time_analysis=np.array(pd.read_csv(time_path,header=None))\n",
    "print(\"Mean of time:\",np.mean(time_analysis))\n",
    "print(\"Std of time:\",np.std(time_analysis))"
   ]
  },
  {
   "cell_type": "code",
   "execution_count": 5,
   "metadata": {},
   "outputs": [
    {
     "name": "stdout",
     "output_type": "stream",
     "text": [
      "Calculation times:  50\n",
      "Testing accuarcy:0.829 ±0.1300\n",
      "Testing Linear reconstruction: 0.015 ±0.0043\n"
     ]
    }
   ],
   "source": [
    "print(\"Calculation times: \", len(results_analysis_test_acc))\n",
    "\n",
    "print(\"Testing accuarcy:%.3f\"%np.mean(results_analysis_test_acc),\"±%.4f\"%np.std(results_analysis_test_acc))\n",
    "\n",
    "print(\"Testing Linear reconstruction: %.3f\" % np.mean(results_analysis_linear_rec),\"±%.4f\"%np.std(results_analysis_linear_rec))"
   ]
  },
  {
   "cell_type": "code",
   "execution_count": null,
   "metadata": {},
   "outputs": [],
   "source": []
  }
 ],
 "metadata": {
  "kernelspec": {
   "display_name": "Python 3",
   "language": "python",
   "name": "python3"
  },
  "language_info": {
   "codemirror_mode": {
    "name": "ipython",
    "version": 3
   },
   "file_extension": ".py",
   "mimetype": "text/x-python",
   "name": "python",
   "nbconvert_exporter": "python",
   "pygments_lexer": "ipython3",
   "version": "3.7.1"
  },
  "widgets": {
   "application/vnd.jupyter.widget-state+json": {
    "state": {},
    "version_major": 2,
    "version_minor": 0
   }
  }
 },
 "nbformat": 4,
 "nbformat_minor": 4
}
