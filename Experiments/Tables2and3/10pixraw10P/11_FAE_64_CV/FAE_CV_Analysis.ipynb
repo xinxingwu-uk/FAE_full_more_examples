{
 "cells": [
  {
   "cell_type": "code",
   "execution_count": 1,
   "metadata": {},
   "outputs": [],
   "source": [
    "import numpy as np\n",
    "import pandas as pd"
   ]
  },
  {
   "cell_type": "code",
   "execution_count": 2,
   "metadata": {},
   "outputs": [
    {
     "name": "stdout",
     "output_type": "stream",
     "text": [
      "Mean of testing accuarcy: 0.983\n",
      "Std of testing accuarcy: 0.03407345007480165\n",
      "Mean of testing Linear reconstruction: 0.005616052697553373\n",
      "Std of testing Linear reconstruction: 0.008978411961622329\n",
      "Mean of time: 8561.771235361099\n",
      "Std of time: 4039.69689750618\n"
     ]
    }
   ],
   "source": [
    "p_is_use_bias=False\n",
    "path=\"./log/FAE_results_bias_\"+str(p_is_use_bias)+\".csv\"\n",
    "\n",
    "results_analysis=np.array(pd.read_csv(path,header=None))\n",
    "results_analysis_test_acc=results_analysis[:,3][np.where(results_analysis[:,3]>=0)]\n",
    "print(\"Mean of testing accuarcy:\",np.mean(results_analysis_test_acc))\n",
    "print(\"Std of testing accuarcy:\",np.std(results_analysis_test_acc))\n",
    "\n",
    "results_analysis_linear_rec=results_analysis[:,4][np.where(results_analysis[:,4]>=0)]\n",
    "print(\"Mean of testing Linear reconstruction:\",np.mean(results_analysis_linear_rec))\n",
    "print(\"Std of testing Linear reconstruction:\",np.std(results_analysis_linear_rec))\n",
    "\n",
    "time_path=\"./log/FAE_time_bias_\"+str(p_is_use_bias)+\".csv\"\n",
    "time_analysis=np.array(pd.read_csv(time_path,header=None))\n",
    "print(\"Mean of time:\",np.mean(time_analysis))\n",
    "print(\"Std of time:\",np.std(time_analysis))"
   ]
  },
  {
   "cell_type": "code",
   "execution_count": 3,
   "metadata": {},
   "outputs": [
    {
     "name": "stdout",
     "output_type": "stream",
     "text": [
      "Mean of testing accuarcy: 0.98\n",
      "Std of testing accuarcy: 0.04\n",
      "Mean of testing Linear reconstruction: 0.004530149129590285\n",
      "Std of testing Linear reconstruction: 0.005081484006028428\n",
      "Mean of time: 8550.344606132507\n",
      "Std of time: 4051.4999677245937\n"
     ]
    }
   ],
   "source": [
    "p_is_use_bias=True\n",
    "path=\"./log/FAE_results_bias_\"+str(p_is_use_bias)+\".csv\"\n",
    "\n",
    "results_analysis=np.array(pd.read_csv(path,header=None))\n",
    "results_analysis_test_acc=results_analysis[:,3][np.where(results_analysis[:,3]>=0)]\n",
    "print(\"Mean of testing accuarcy:\",np.mean(results_analysis_test_acc))\n",
    "print(\"Std of testing accuarcy:\",np.std(results_analysis_test_acc))\n",
    "\n",
    "results_analysis_linear_rec=results_analysis[:,4][np.where(results_analysis[:,4]>=0)]\n",
    "print(\"Mean of testing Linear reconstruction:\",np.mean(results_analysis_linear_rec))\n",
    "print(\"Std of testing Linear reconstruction:\",np.std(results_analysis_linear_rec))\n",
    "\n",
    "time_path=\"./log/FAE_time_bias_\"+str(p_is_use_bias)+\".csv\"\n",
    "time_analysis=np.array(pd.read_csv(time_path,header=None))\n",
    "print(\"Mean of time:\",np.mean(time_analysis))\n",
    "print(\"Std of time:\",np.std(time_analysis))"
   ]
  },
  {
   "cell_type": "code",
   "execution_count": null,
   "metadata": {},
   "outputs": [],
   "source": []
  }
 ],
 "metadata": {
  "kernelspec": {
   "display_name": "Python 3",
   "language": "python",
   "name": "python3"
  },
  "language_info": {
   "codemirror_mode": {
    "name": "ipython",
    "version": 3
   },
   "file_extension": ".py",
   "mimetype": "text/x-python",
   "name": "python",
   "nbconvert_exporter": "python",
   "pygments_lexer": "ipython3",
   "version": "3.7.1"
  },
  "widgets": {
   "application/vnd.jupyter.widget-state+json": {
    "state": {},
    "version_major": 2,
    "version_minor": 0
   }
  }
 },
 "nbformat": 4,
 "nbformat_minor": 4
}
