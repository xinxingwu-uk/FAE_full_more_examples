{
 "cells": [
  {
   "cell_type": "code",
   "execution_count": 1,
   "metadata": {},
   "outputs": [],
   "source": [
    "import numpy as np\n",
    "import pandas as pd"
   ]
  },
  {
   "cell_type": "code",
   "execution_count": 2,
   "metadata": {},
   "outputs": [
    {
     "name": "stdout",
     "output_type": "stream",
     "text": [
      "Mean of testing accuarcy: 0.41\n",
      "Std of testing accuarcy: 0.2353720459187964\n",
      "Testing accuarcy:0.410 ±0.2354\n",
      "\n",
      "\n",
      "Mean of testing linear reconstruction: 1.3566988587379456\n",
      "Std of testing linear reconstruction: 0.69985150364889\n",
      "Testing Linear reconstruction:1.357 ±0.6999\n",
      "\n",
      "\n",
      "Mean of time: 3422.0675011634826\n",
      "Std of time: 836.0372512224037\n"
     ]
    }
   ],
   "source": [
    "cv_times_from=0\n",
    "cv_times_to=5\n",
    "\n",
    "path=\"./log/InfFS_results.csv\"\n",
    "\n",
    "results_analysis=np.array(pd.read_csv(path,header=None))\n",
    "results_analysis_test_acc=results_analysis[:,3][np.where(results_analysis[:,3]>=0)][cv_times_from:cv_times_to]\n",
    "print(\"Mean of testing accuarcy:\",np.mean(results_analysis_test_acc))\n",
    "print(\"Std of testing accuarcy:\",np.std(results_analysis_test_acc))\n",
    "print(\"Testing accuarcy:%.3f\"%np.mean(results_analysis_test_acc),\"±%.4f\"%np.std(results_analysis_test_acc))\n",
    "\n",
    "print(\"\\n\")\n",
    "\n",
    "results_analysis_linear_rec=results_analysis[:,4][np.where(results_analysis[:,4]>=0)][cv_times_from:cv_times_to]\n",
    "print(\"Mean of testing linear reconstruction:\",np.mean(results_analysis_linear_rec))\n",
    "print(\"Std of testing linear reconstruction:\",np.std(results_analysis_linear_rec))\n",
    "\n",
    "print(\"Testing Linear reconstruction:%.3f\"%np.mean(results_analysis_linear_rec),\"±%.4f\"%np.std(results_analysis_linear_rec))\n",
    "\n",
    "print(\"\\n\")\n",
    "\n",
    "time_path=\"./log/InfFS_time.csv\"\n",
    "time_analysis=np.array(pd.read_csv(time_path,header=None))[cv_times_from:cv_times_to]\n",
    "print(\"Mean of time:\",np.mean(time_analysis))\n",
    "print(\"Std of time:\",np.std(time_analysis))"
   ]
  },
  {
   "cell_type": "code",
   "execution_count": null,
   "metadata": {},
   "outputs": [],
   "source": []
  }
 ],
 "metadata": {
  "kernelspec": {
   "display_name": "Python 3",
   "language": "python",
   "name": "python3"
  },
  "language_info": {
   "codemirror_mode": {
    "name": "ipython",
    "version": 3
   },
   "file_extension": ".py",
   "mimetype": "text/x-python",
   "name": "python",
   "nbconvert_exporter": "python",
   "pygments_lexer": "ipython3",
   "version": "3.7.8"
  },
  "widgets": {
   "application/vnd.jupyter.widget-state+json": {
    "state": {},
    "version_major": 2,
    "version_minor": 0
   }
  }
 },
 "nbformat": 4,
 "nbformat_minor": 4
}
