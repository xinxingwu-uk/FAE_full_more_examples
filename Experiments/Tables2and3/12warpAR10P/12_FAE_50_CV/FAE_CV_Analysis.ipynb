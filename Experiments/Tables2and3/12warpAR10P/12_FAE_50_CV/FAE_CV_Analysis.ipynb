{
 "cells": [
  {
   "cell_type": "code",
   "execution_count": 1,
   "metadata": {},
   "outputs": [],
   "source": [
    "import numpy as np\n",
    "import pandas as pd"
   ]
  },
  {
   "cell_type": "code",
   "execution_count": 2,
   "metadata": {},
   "outputs": [
    {
     "name": "stdout",
     "output_type": "stream",
     "text": [
      "Mean of testing accuarcy: 0.6677577741407529\n",
      "Std of testing accuarcy: 0.09368366574771639\n",
      "Mean of testing Linear reconstruction: 0.036396452645168\n",
      "Std of testing Linear reconstruction: 0.004904407321211561\n",
      "Mean of time: 372.8867921068313\n",
      "Std of time: 257.2839325638643\n"
     ]
    }
   ],
   "source": [
    "p_is_use_bias=False\n",
    "path=\"./log/FAE_results_bias_\"+str(p_is_use_bias)+\".csv\"\n",
    "\n",
    "results_analysis=np.array(pd.read_csv(path,header=None))\n",
    "results_analysis_test_acc=results_analysis[:,3][np.where(results_analysis[:,3]>=0)]\n",
    "print(\"Mean of testing accuarcy:\",np.mean(results_analysis_test_acc))\n",
    "print(\"Std of testing accuarcy:\",np.std(results_analysis_test_acc))\n",
    "\n",
    "results_analysis_linear_rec=results_analysis[:,4][np.where(results_analysis[:,4]>=0)]\n",
    "print(\"Mean of testing Linear reconstruction:\",np.mean(results_analysis_linear_rec))\n",
    "print(\"Std of testing Linear reconstruction:\",np.std(results_analysis_linear_rec))\n",
    "\n",
    "time_path=\"./log/FAE_time_bias_\"+str(p_is_use_bias)+\".csv\"\n",
    "time_analysis=np.array(pd.read_csv(time_path,header=None))\n",
    "print(\"Mean of time:\",np.mean(time_analysis))\n",
    "print(\"Std of time:\",np.std(time_analysis))"
   ]
  },
  {
   "cell_type": "code",
   "execution_count": 3,
   "metadata": {},
   "outputs": [
    {
     "name": "stdout",
     "output_type": "stream",
     "text": [
      "Mean of testing accuarcy: 0.6896243291592129\n",
      "Std of testing accuarcy: 0.10439474418938413\n",
      "Mean of testing Linear reconstruction: 0.036089096355955363\n",
      "Std of testing Linear reconstruction: 0.005125254512904673\n",
      "Mean of time: 364.41636523535084\n",
      "Std of time: 142.30768865880853\n"
     ]
    }
   ],
   "source": [
    "p_is_use_bias=True\n",
    "path=\"./log/FAE_results_bias_\"+str(p_is_use_bias)+\".csv\"\n",
    "\n",
    "results_analysis=np.array(pd.read_csv(path,header=None))\n",
    "results_analysis_test_acc=results_analysis[:,3][np.where(results_analysis[:,3]>=0)]\n",
    "print(\"Mean of testing accuarcy:\",np.mean(results_analysis_test_acc))\n",
    "print(\"Std of testing accuarcy:\",np.std(results_analysis_test_acc))\n",
    "\n",
    "results_analysis_linear_rec=results_analysis[:,4][np.where(results_analysis[:,4]>=0)]\n",
    "print(\"Mean of testing Linear reconstruction:\",np.mean(results_analysis_linear_rec))\n",
    "print(\"Std of testing Linear reconstruction:\",np.std(results_analysis_linear_rec))\n",
    "\n",
    "time_path=\"./log/FAE_time_bias_\"+str(p_is_use_bias)+\".csv\"\n",
    "time_analysis=np.array(pd.read_csv(time_path,header=None))\n",
    "print(\"Mean of time:\",np.mean(time_analysis))\n",
    "print(\"Std of time:\",np.std(time_analysis))"
   ]
  },
  {
   "cell_type": "code",
   "execution_count": null,
   "metadata": {},
   "outputs": [],
   "source": []
  }
 ],
 "metadata": {
  "kernelspec": {
   "display_name": "Python 3",
   "language": "python",
   "name": "python3"
  },
  "language_info": {
   "codemirror_mode": {
    "name": "ipython",
    "version": 3
   },
   "file_extension": ".py",
   "mimetype": "text/x-python",
   "name": "python",
   "nbconvert_exporter": "python",
   "pygments_lexer": "ipython3",
   "version": "3.7.1"
  },
  "widgets": {
   "application/vnd.jupyter.widget-state+json": {
    "state": {},
    "version_major": 2,
    "version_minor": 0
   }
  }
 },
 "nbformat": 4,
 "nbformat_minor": 4
}
