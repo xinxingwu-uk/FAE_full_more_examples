{
 "cells": [
  {
   "cell_type": "code",
   "execution_count": 1,
   "metadata": {},
   "outputs": [],
   "source": [
    "import numpy as np\n",
    "import pandas as pd"
   ]
  },
  {
   "cell_type": "code",
   "execution_count": 2,
   "metadata": {},
   "outputs": [
    {
     "name": "stdout",
     "output_type": "stream",
     "text": [
      "Mean of testing accuarcy: 0.8186666666666667\n",
      "Std of testing accuarcy: 0.11626788990182206\n",
      "Mean of testing Linear reconstruction: 6.036552092894329\n",
      "Std of testing Linear reconstruction: 1.0191153657906817\n",
      "Mean of time: 5799.760219020844\n",
      "Std of time: 1675.7224417531022\n"
     ]
    }
   ],
   "source": [
    "p_is_use_bias=False\n",
    "path=\"./log/FAE_results_bias_\"+str(p_is_use_bias)+\".csv\"\n",
    "\n",
    "results_analysis=np.array(pd.read_csv(path,header=None))\n",
    "results_analysis_test_acc=results_analysis[:,3][np.where(results_analysis[:,3]>=0)]\n",
    "print(\"Mean of testing accuarcy:\",np.mean(results_analysis_test_acc))\n",
    "print(\"Std of testing accuarcy:\",np.std(results_analysis_test_acc))\n",
    "\n",
    "results_analysis_linear_rec=results_analysis[:,4][np.where(results_analysis[:,4]>=0)]\n",
    "print(\"Mean of testing Linear reconstruction:\",np.mean(results_analysis_linear_rec))\n",
    "print(\"Std of testing Linear reconstruction:\",np.std(results_analysis_linear_rec))\n",
    "\n",
    "time_path=\"./log/FAE_time_bias_\"+str(p_is_use_bias)+\".csv\"\n",
    "time_analysis=np.array(pd.read_csv(time_path,header=None))\n",
    "print(\"Mean of time:\",np.mean(time_analysis))\n",
    "print(\"Std of time:\",np.std(time_analysis))"
   ]
  },
  {
   "cell_type": "code",
   "execution_count": 3,
   "metadata": {},
   "outputs": [
    {
     "name": "stdout",
     "output_type": "stream",
     "text": [
      "Mean of testing accuarcy: 0.8266666666666667\n",
      "Std of testing accuarcy: 0.10832051206181277\n",
      "Mean of testing Linear reconstruction: 6.289039861780274\n",
      "Std of testing Linear reconstruction: 1.2506508426538092\n",
      "Mean of time: 5794.060125331878\n",
      "Std of time: 1742.4529221219284\n"
     ]
    }
   ],
   "source": [
    "p_is_use_bias=True\n",
    "path=\"./log/FAE_results_bias_\"+str(p_is_use_bias)+\".csv\"\n",
    "\n",
    "results_analysis=np.array(pd.read_csv(path,header=None))\n",
    "results_analysis_test_acc=results_analysis[:,3][np.where(results_analysis[:,3]>=0)]\n",
    "print(\"Mean of testing accuarcy:\",np.mean(results_analysis_test_acc))\n",
    "print(\"Std of testing accuarcy:\",np.std(results_analysis_test_acc))\n",
    "\n",
    "results_analysis_linear_rec=results_analysis[:,4][np.where(results_analysis[:,4]>=0)]\n",
    "print(\"Mean of testing Linear reconstruction:\",np.mean(results_analysis_linear_rec))\n",
    "print(\"Std of testing Linear reconstruction:\",np.std(results_analysis_linear_rec))\n",
    "\n",
    "time_path=\"./log/FAE_time_bias_\"+str(p_is_use_bias)+\".csv\"\n",
    "time_analysis=np.array(pd.read_csv(time_path,header=None))\n",
    "print(\"Mean of time:\",np.mean(time_analysis))\n",
    "print(\"Std of time:\",np.std(time_analysis))"
   ]
  },
  {
   "cell_type": "code",
   "execution_count": null,
   "metadata": {},
   "outputs": [],
   "source": []
  }
 ],
 "metadata": {
  "kernelspec": {
   "display_name": "Python 3",
   "language": "python",
   "name": "python3"
  },
  "language_info": {
   "codemirror_mode": {
    "name": "ipython",
    "version": 3
   },
   "file_extension": ".py",
   "mimetype": "text/x-python",
   "name": "python",
   "nbconvert_exporter": "python",
   "pygments_lexer": "ipython3",
   "version": "3.7.1"
  },
  "widgets": {
   "application/vnd.jupyter.widget-state+json": {
    "state": {},
    "version_major": 2,
    "version_minor": 0
   }
  }
 },
 "nbformat": 4,
 "nbformat_minor": 4
}
