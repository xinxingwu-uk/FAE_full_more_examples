{
 "cells": [
  {
   "cell_type": "markdown",
   "metadata": {},
   "source": [
    "# Merge map_lm.txt and map_tg.txt"
   ]
  },
  {
   "cell_type": "code",
   "execution_count": 1,
   "metadata": {},
   "outputs": [],
   "source": [
    "from pandas import DataFrame\n",
    "import pandas as pd\n",
    "import gc"
   ]
  },
  {
   "cell_type": "code",
   "execution_count": 2,
   "metadata": {},
   "outputs": [
    {
     "name": "stdout",
     "output_type": "stream",
     "text": [
      "(943, 3)\n",
      "(9520, 3)\n"
     ]
    }
   ],
   "source": [
    "LM_ID_ = 'map_lm.txt'\n",
    "TG_ID_ = 'map_tg.txt'\n",
    "TG_ID_Merge = 'map_tg_merge.txt'\n",
    "\n",
    "LM_ID_data = pd.read_table(LM_ID_,header = None,delim_whitespace=True)\n",
    " \n",
    "print(LM_ID_data.shape)\n",
    "\n",
    "TG_ID_data = pd.read_table(TG_ID_,header = None,delim_whitespace=True)\n",
    "print(TG_ID_data.shape)"
   ]
  },
  {
   "cell_type": "code",
   "execution_count": 3,
   "metadata": {},
   "outputs": [
    {
     "name": "stdout",
     "output_type": "stream",
     "text": [
      "(10463, 3)\n"
     ]
    }
   ],
   "source": [
    "TG_ID_Merge_data=pd.merge(TG_ID_data,LM_ID_data,how='outer')\n",
    "print(TG_ID_Merge_data.shape)"
   ]
  },
  {
   "cell_type": "code",
   "execution_count": 4,
   "metadata": {},
   "outputs": [],
   "source": [
    "TG_ID_Merge_data.to_csv(TG_ID_Merge, header = None,index=False, sep='\\t')"
   ]
  },
  {
   "cell_type": "code",
   "execution_count": 5,
   "metadata": {},
   "outputs": [
    {
     "data": {
      "text/html": [
       "<div>\n",
       "<style scoped>\n",
       "    .dataframe tbody tr th:only-of-type {\n",
       "        vertical-align: middle;\n",
       "    }\n",
       "\n",
       "    .dataframe tbody tr th {\n",
       "        vertical-align: top;\n",
       "    }\n",
       "\n",
       "    .dataframe thead th {\n",
       "        text-align: right;\n",
       "    }\n",
       "</style>\n",
       "<table border=\"1\" class=\"dataframe\">\n",
       "  <thead>\n",
       "    <tr style=\"text-align: right;\">\n",
       "      <th></th>\n",
       "      <th>0</th>\n",
       "      <th>1</th>\n",
       "      <th>2</th>\n",
       "    </tr>\n",
       "  </thead>\n",
       "  <tbody>\n",
       "    <tr>\n",
       "      <th>0</th>\n",
       "      <td>NXN</td>\n",
       "      <td>ENSG00000167693</td>\n",
       "      <td>219489_s_at</td>\n",
       "    </tr>\n",
       "    <tr>\n",
       "      <th>1</th>\n",
       "      <td>MAK</td>\n",
       "      <td>ENSG00000111837</td>\n",
       "      <td>220302_at</td>\n",
       "    </tr>\n",
       "    <tr>\n",
       "      <th>2</th>\n",
       "      <td>RAP1GAP</td>\n",
       "      <td>ENSG00000076864</td>\n",
       "      <td>210618_at</td>\n",
       "    </tr>\n",
       "    <tr>\n",
       "      <th>3</th>\n",
       "      <td>POPDC2</td>\n",
       "      <td>ENSG00000121577</td>\n",
       "      <td>219647_at</td>\n",
       "    </tr>\n",
       "    <tr>\n",
       "      <th>4</th>\n",
       "      <td>STRN</td>\n",
       "      <td>ENSG00000115808</td>\n",
       "      <td>205520_at</td>\n",
       "    </tr>\n",
       "    <tr>\n",
       "      <th>...</th>\n",
       "      <td>...</td>\n",
       "      <td>...</td>\n",
       "      <td>...</td>\n",
       "    </tr>\n",
       "    <tr>\n",
       "      <th>10458</th>\n",
       "      <td>LYRM1</td>\n",
       "      <td>ENSG00000102897</td>\n",
       "      <td>203897_at</td>\n",
       "    </tr>\n",
       "    <tr>\n",
       "      <th>10459</th>\n",
       "      <td>PRKX</td>\n",
       "      <td>ENSG00000183943</td>\n",
       "      <td>204061_at</td>\n",
       "    </tr>\n",
       "    <tr>\n",
       "      <th>10460</th>\n",
       "      <td>CRELD2</td>\n",
       "      <td>ENSG00000184164</td>\n",
       "      <td>218358_at</td>\n",
       "    </tr>\n",
       "    <tr>\n",
       "      <th>10461</th>\n",
       "      <td>TCFL5</td>\n",
       "      <td>ENSG00000101190</td>\n",
       "      <td>204849_at</td>\n",
       "    </tr>\n",
       "    <tr>\n",
       "      <th>10462</th>\n",
       "      <td>POP4</td>\n",
       "      <td>ENSG00000105171</td>\n",
       "      <td>202868_s_at</td>\n",
       "    </tr>\n",
       "  </tbody>\n",
       "</table>\n",
       "<p>10463 rows × 3 columns</p>\n",
       "</div>"
      ],
      "text/plain": [
       "             0                1            2\n",
       "0          NXN  ENSG00000167693  219489_s_at\n",
       "1          MAK  ENSG00000111837    220302_at\n",
       "2      RAP1GAP  ENSG00000076864    210618_at\n",
       "3       POPDC2  ENSG00000121577    219647_at\n",
       "4         STRN  ENSG00000115808    205520_at\n",
       "...        ...              ...          ...\n",
       "10458    LYRM1  ENSG00000102897    203897_at\n",
       "10459     PRKX  ENSG00000183943    204061_at\n",
       "10460   CRELD2  ENSG00000184164    218358_at\n",
       "10461    TCFL5  ENSG00000101190    204849_at\n",
       "10462     POP4  ENSG00000105171  202868_s_at\n",
       "\n",
       "[10463 rows x 3 columns]"
      ]
     },
     "execution_count": 5,
     "metadata": {},
     "output_type": "execute_result"
    }
   ],
   "source": [
    "pd.read_table(TG_ID_Merge,header = None,delim_whitespace=True)"
   ]
  },
  {
   "cell_type": "code",
   "execution_count": 6,
   "metadata": {},
   "outputs": [
    {
     "data": {
      "text/html": [
       "<div>\n",
       "<style scoped>\n",
       "    .dataframe tbody tr th:only-of-type {\n",
       "        vertical-align: middle;\n",
       "    }\n",
       "\n",
       "    .dataframe tbody tr th {\n",
       "        vertical-align: top;\n",
       "    }\n",
       "\n",
       "    .dataframe thead th {\n",
       "        text-align: right;\n",
       "    }\n",
       "</style>\n",
       "<table border=\"1\" class=\"dataframe\">\n",
       "  <thead>\n",
       "    <tr style=\"text-align: right;\">\n",
       "      <th></th>\n",
       "      <th>0</th>\n",
       "      <th>1</th>\n",
       "      <th>2</th>\n",
       "    </tr>\n",
       "  </thead>\n",
       "  <tbody>\n",
       "    <tr>\n",
       "      <th>0</th>\n",
       "      <td>NXN</td>\n",
       "      <td>ENSG00000167693</td>\n",
       "      <td>219489_s_at</td>\n",
       "    </tr>\n",
       "    <tr>\n",
       "      <th>1</th>\n",
       "      <td>MAK</td>\n",
       "      <td>ENSG00000111837</td>\n",
       "      <td>220302_at</td>\n",
       "    </tr>\n",
       "    <tr>\n",
       "      <th>2</th>\n",
       "      <td>RAP1GAP</td>\n",
       "      <td>ENSG00000076864</td>\n",
       "      <td>210618_at</td>\n",
       "    </tr>\n",
       "    <tr>\n",
       "      <th>3</th>\n",
       "      <td>POPDC2</td>\n",
       "      <td>ENSG00000121577</td>\n",
       "      <td>219647_at</td>\n",
       "    </tr>\n",
       "    <tr>\n",
       "      <th>4</th>\n",
       "      <td>STRN</td>\n",
       "      <td>ENSG00000115808</td>\n",
       "      <td>205520_at</td>\n",
       "    </tr>\n",
       "    <tr>\n",
       "      <th>...</th>\n",
       "      <td>...</td>\n",
       "      <td>...</td>\n",
       "      <td>...</td>\n",
       "    </tr>\n",
       "    <tr>\n",
       "      <th>10458</th>\n",
       "      <td>LYRM1</td>\n",
       "      <td>ENSG00000102897</td>\n",
       "      <td>203897_at</td>\n",
       "    </tr>\n",
       "    <tr>\n",
       "      <th>10459</th>\n",
       "      <td>PRKX</td>\n",
       "      <td>ENSG00000183943</td>\n",
       "      <td>204061_at</td>\n",
       "    </tr>\n",
       "    <tr>\n",
       "      <th>10460</th>\n",
       "      <td>CRELD2</td>\n",
       "      <td>ENSG00000184164</td>\n",
       "      <td>218358_at</td>\n",
       "    </tr>\n",
       "    <tr>\n",
       "      <th>10461</th>\n",
       "      <td>TCFL5</td>\n",
       "      <td>ENSG00000101190</td>\n",
       "      <td>204849_at</td>\n",
       "    </tr>\n",
       "    <tr>\n",
       "      <th>10462</th>\n",
       "      <td>POP4</td>\n",
       "      <td>ENSG00000105171</td>\n",
       "      <td>202868_s_at</td>\n",
       "    </tr>\n",
       "  </tbody>\n",
       "</table>\n",
       "<p>10463 rows × 3 columns</p>\n",
       "</div>"
      ],
      "text/plain": [
       "             0                1            2\n",
       "0          NXN  ENSG00000167693  219489_s_at\n",
       "1          MAK  ENSG00000111837    220302_at\n",
       "2      RAP1GAP  ENSG00000076864    210618_at\n",
       "3       POPDC2  ENSG00000121577    219647_at\n",
       "4         STRN  ENSG00000115808    205520_at\n",
       "...        ...              ...          ...\n",
       "10458    LYRM1  ENSG00000102897    203897_at\n",
       "10459     PRKX  ENSG00000183943    204061_at\n",
       "10460   CRELD2  ENSG00000184164    218358_at\n",
       "10461    TCFL5  ENSG00000101190    204849_at\n",
       "10462     POP4  ENSG00000105171  202868_s_at\n",
       "\n",
       "[10463 rows x 3 columns]"
      ]
     },
     "execution_count": 6,
     "metadata": {},
     "output_type": "execute_result"
    }
   ],
   "source": [
    "TG_ID_Merge_data"
   ]
  },
  {
   "cell_type": "code",
   "execution_count": 7,
   "metadata": {},
   "outputs": [
    {
     "data": {
      "text/html": [
       "<div>\n",
       "<style scoped>\n",
       "    .dataframe tbody tr th:only-of-type {\n",
       "        vertical-align: middle;\n",
       "    }\n",
       "\n",
       "    .dataframe tbody tr th {\n",
       "        vertical-align: top;\n",
       "    }\n",
       "\n",
       "    .dataframe thead th {\n",
       "        text-align: right;\n",
       "    }\n",
       "</style>\n",
       "<table border=\"1\" class=\"dataframe\">\n",
       "  <thead>\n",
       "    <tr style=\"text-align: right;\">\n",
       "      <th></th>\n",
       "      <th>0</th>\n",
       "      <th>1</th>\n",
       "      <th>2</th>\n",
       "    </tr>\n",
       "  </thead>\n",
       "  <tbody>\n",
       "    <tr>\n",
       "      <th>0</th>\n",
       "      <td>NXN</td>\n",
       "      <td>ENSG00000167693</td>\n",
       "      <td>219489_s_at</td>\n",
       "    </tr>\n",
       "    <tr>\n",
       "      <th>1</th>\n",
       "      <td>MAK</td>\n",
       "      <td>ENSG00000111837</td>\n",
       "      <td>220302_at</td>\n",
       "    </tr>\n",
       "    <tr>\n",
       "      <th>2</th>\n",
       "      <td>RAP1GAP</td>\n",
       "      <td>ENSG00000076864</td>\n",
       "      <td>210618_at</td>\n",
       "    </tr>\n",
       "    <tr>\n",
       "      <th>3</th>\n",
       "      <td>POPDC2</td>\n",
       "      <td>ENSG00000121577</td>\n",
       "      <td>219647_at</td>\n",
       "    </tr>\n",
       "    <tr>\n",
       "      <th>4</th>\n",
       "      <td>STRN</td>\n",
       "      <td>ENSG00000115808</td>\n",
       "      <td>205520_at</td>\n",
       "    </tr>\n",
       "    <tr>\n",
       "      <th>...</th>\n",
       "      <td>...</td>\n",
       "      <td>...</td>\n",
       "      <td>...</td>\n",
       "    </tr>\n",
       "    <tr>\n",
       "      <th>9515</th>\n",
       "      <td>CFLAR</td>\n",
       "      <td>ENSG00000003402</td>\n",
       "      <td>214486_x_at,208485_x_at,210564_x_at,210563_x_a...</td>\n",
       "    </tr>\n",
       "    <tr>\n",
       "      <th>9516</th>\n",
       "      <td>RUNX1</td>\n",
       "      <td>ENSG00000159216</td>\n",
       "      <td>210365_at,211179_at,211182_x_at,209360_s_at,21...</td>\n",
       "    </tr>\n",
       "    <tr>\n",
       "      <th>9517</th>\n",
       "      <td>PDE4DIP</td>\n",
       "      <td>ENSG00000178104</td>\n",
       "      <td>212390_at,214130_s_at,209700_x_at,205872_x_at,...</td>\n",
       "    </tr>\n",
       "    <tr>\n",
       "      <th>9518</th>\n",
       "      <td>TCF3</td>\n",
       "      <td>ENSG00000071564</td>\n",
       "      <td>213809_x_at,216647_at,213730_x_at,213731_s_at,...</td>\n",
       "    </tr>\n",
       "    <tr>\n",
       "      <th>9519</th>\n",
       "      <td>HFE</td>\n",
       "      <td>ENSG00000010704</td>\n",
       "      <td>214647_s_at,211328_x_at,211330_s_at,210864_x_a...</td>\n",
       "    </tr>\n",
       "  </tbody>\n",
       "</table>\n",
       "<p>9520 rows × 3 columns</p>\n",
       "</div>"
      ],
      "text/plain": [
       "            0                1  \\\n",
       "0         NXN  ENSG00000167693   \n",
       "1         MAK  ENSG00000111837   \n",
       "2     RAP1GAP  ENSG00000076864   \n",
       "3      POPDC2  ENSG00000121577   \n",
       "4        STRN  ENSG00000115808   \n",
       "...       ...              ...   \n",
       "9515    CFLAR  ENSG00000003402   \n",
       "9516    RUNX1  ENSG00000159216   \n",
       "9517  PDE4DIP  ENSG00000178104   \n",
       "9518     TCF3  ENSG00000071564   \n",
       "9519      HFE  ENSG00000010704   \n",
       "\n",
       "                                                      2  \n",
       "0                                           219489_s_at  \n",
       "1                                             220302_at  \n",
       "2                                             210618_at  \n",
       "3                                             219647_at  \n",
       "4                                             205520_at  \n",
       "...                                                 ...  \n",
       "9515  214486_x_at,208485_x_at,210564_x_at,210563_x_a...  \n",
       "9516  210365_at,211179_at,211182_x_at,209360_s_at,21...  \n",
       "9517  212390_at,214130_s_at,209700_x_at,205872_x_at,...  \n",
       "9518  213809_x_at,216647_at,213730_x_at,213731_s_at,...  \n",
       "9519  214647_s_at,211328_x_at,211330_s_at,210864_x_a...  \n",
       "\n",
       "[9520 rows x 3 columns]"
      ]
     },
     "execution_count": 7,
     "metadata": {},
     "output_type": "execute_result"
    }
   ],
   "source": [
    "TG_ID_data"
   ]
  },
  {
   "cell_type": "code",
   "execution_count": 8,
   "metadata": {},
   "outputs": [
    {
     "data": {
      "text/html": [
       "<div>\n",
       "<style scoped>\n",
       "    .dataframe tbody tr th:only-of-type {\n",
       "        vertical-align: middle;\n",
       "    }\n",
       "\n",
       "    .dataframe tbody tr th {\n",
       "        vertical-align: top;\n",
       "    }\n",
       "\n",
       "    .dataframe thead th {\n",
       "        text-align: right;\n",
       "    }\n",
       "</style>\n",
       "<table border=\"1\" class=\"dataframe\">\n",
       "  <thead>\n",
       "    <tr style=\"text-align: right;\">\n",
       "      <th></th>\n",
       "      <th>0</th>\n",
       "      <th>1</th>\n",
       "      <th>2</th>\n",
       "    </tr>\n",
       "  </thead>\n",
       "  <tbody>\n",
       "    <tr>\n",
       "      <th>0</th>\n",
       "      <td>UBE2C</td>\n",
       "      <td>ENSG00000175063</td>\n",
       "      <td>202954_at</td>\n",
       "    </tr>\n",
       "    <tr>\n",
       "      <th>1</th>\n",
       "      <td>RBKS</td>\n",
       "      <td>ENSG00000171174</td>\n",
       "      <td>219222_at</td>\n",
       "    </tr>\n",
       "    <tr>\n",
       "      <th>2</th>\n",
       "      <td>SLC2A6</td>\n",
       "      <td>ENSG00000160326</td>\n",
       "      <td>220091_at</td>\n",
       "    </tr>\n",
       "    <tr>\n",
       "      <th>3</th>\n",
       "      <td>DAXX</td>\n",
       "      <td>ENSG00000204209</td>\n",
       "      <td>201763_s_at</td>\n",
       "    </tr>\n",
       "    <tr>\n",
       "      <th>4</th>\n",
       "      <td>GNAS</td>\n",
       "      <td>ENSG00000087460</td>\n",
       "      <td>200981_x_at</td>\n",
       "    </tr>\n",
       "    <tr>\n",
       "      <th>...</th>\n",
       "      <td>...</td>\n",
       "      <td>...</td>\n",
       "      <td>...</td>\n",
       "    </tr>\n",
       "    <tr>\n",
       "      <th>938</th>\n",
       "      <td>LYRM1</td>\n",
       "      <td>ENSG00000102897</td>\n",
       "      <td>203897_at</td>\n",
       "    </tr>\n",
       "    <tr>\n",
       "      <th>939</th>\n",
       "      <td>PRKX</td>\n",
       "      <td>ENSG00000183943</td>\n",
       "      <td>204061_at</td>\n",
       "    </tr>\n",
       "    <tr>\n",
       "      <th>940</th>\n",
       "      <td>CRELD2</td>\n",
       "      <td>ENSG00000184164</td>\n",
       "      <td>218358_at</td>\n",
       "    </tr>\n",
       "    <tr>\n",
       "      <th>941</th>\n",
       "      <td>TCFL5</td>\n",
       "      <td>ENSG00000101190</td>\n",
       "      <td>204849_at</td>\n",
       "    </tr>\n",
       "    <tr>\n",
       "      <th>942</th>\n",
       "      <td>POP4</td>\n",
       "      <td>ENSG00000105171</td>\n",
       "      <td>202868_s_at</td>\n",
       "    </tr>\n",
       "  </tbody>\n",
       "</table>\n",
       "<p>943 rows × 3 columns</p>\n",
       "</div>"
      ],
      "text/plain": [
       "          0                1            2\n",
       "0     UBE2C  ENSG00000175063    202954_at\n",
       "1      RBKS  ENSG00000171174    219222_at\n",
       "2    SLC2A6  ENSG00000160326    220091_at\n",
       "3      DAXX  ENSG00000204209  201763_s_at\n",
       "4      GNAS  ENSG00000087460  200981_x_at\n",
       "..      ...              ...          ...\n",
       "938   LYRM1  ENSG00000102897    203897_at\n",
       "939    PRKX  ENSG00000183943    204061_at\n",
       "940  CRELD2  ENSG00000184164    218358_at\n",
       "941   TCFL5  ENSG00000101190    204849_at\n",
       "942    POP4  ENSG00000105171  202868_s_at\n",
       "\n",
       "[943 rows x 3 columns]"
      ]
     },
     "execution_count": 8,
     "metadata": {},
     "output_type": "execute_result"
    }
   ],
   "source": [
    "LM_ID_data"
   ]
  },
  {
   "cell_type": "code",
   "execution_count": 9,
   "metadata": {},
   "outputs": [
    {
     "data": {
      "text/plain": [
       "50"
      ]
     },
     "execution_count": 9,
     "metadata": {},
     "output_type": "execute_result"
    }
   ],
   "source": [
    "gc.collect()"
   ]
  },
  {
   "cell_type": "markdown",
   "metadata": {},
   "source": [
    "# Original Program"
   ]
  },
  {
   "cell_type": "code",
   "execution_count": 10,
   "metadata": {},
   "outputs": [],
   "source": [
    "import sys\n",
    "\n",
    "import numpy as np\n",
    "import logging\n",
    "import cmapPy.pandasGEXpress.setup_GCToo_logger as setup_logger\n",
    "import cmapPy.pandasGEXpress.parse_gct as parse_gct\n",
    "import cmapPy.pandasGEXpress.parse_gctx as parse_gctx\n",
    "import numpy as np"
   ]
  },
  {
   "cell_type": "code",
   "execution_count": 11,
   "metadata": {},
   "outputs": [],
   "source": [
    "logger = logging.getLogger(setup_logger.LOGGER_NAME)\n",
    "\n",
    "def parse(file_path, convert_neg_666=True, rid=None, cid=None, ridx=None, cidx=None,\n",
    "          row_meta_only=False, col_meta_only=False, make_multiindex=False):\n",
    "    if file_path.endswith(\".gct\"):\n",
    "        out = parse_gct.parse(file_path, convert_neg_666=convert_neg_666,\n",
    "                              rid=rid, cid=cid, ridx=ridx, cidx=cidx,\n",
    "                              row_meta_only=row_meta_only, col_meta_only=col_meta_only,\n",
    "                              make_multiindex=make_multiindex)\n",
    "\n",
    "    elif file_path.endswith(\".gctx\"):\n",
    "        out = parse_gctx.parse(file_path, convert_neg_666=convert_neg_666,\n",
    "                              rid=rid, cid=cid, ridx=ridx, cidx=cidx,\n",
    "                              row_meta_only=row_meta_only, col_meta_only=col_meta_only,\n",
    "                              make_multiindex=make_multiindex)\n",
    "\n",
    "    else:\n",
    "        err_msg = \"File to parse must be .gct or .gctx!\"\n",
    "        logger.error(err_msg)\n",
    "        raise Exception(err_msg)\n",
    "\n",
    "    return out"
   ]
  },
  {
   "cell_type": "code",
   "execution_count": 12,
   "metadata": {},
   "outputs": [],
   "source": [
    "BGEDV2_GCTX = 'bgedv2_QNORM.gctx'\n",
    "LM_ID = 'map_lm.txt'\n",
    "TG_ID = 'map_tg_merge.txt'\n",
    "SP_IDX_NODUP = 'bgedv2_idx_nodup_K100_D1.0.txt'"
   ]
  },
  {
   "cell_type": "code",
   "execution_count": 13,
   "metadata": {},
   "outputs": [],
   "source": [
    "infile = open(SP_IDX_NODUP)\n",
    "samples_idx_nodup = []\n",
    "for line in infile:\n",
    "    samples_idx_nodup.append(int(line.strip('\\n')))\n",
    "    \n",
    "infile.close()\n",
    "samples_idx_nodup = np.random.permutation(samples_idx_nodup).tolist()"
   ]
  },
  {
   "cell_type": "code",
   "execution_count": 14,
   "metadata": {},
   "outputs": [],
   "source": [
    "lm_id = [] \n",
    "lm_probs_dict = {}\n",
    "infile = open(LM_ID)\n",
    "for line in infile:\n",
    "    ID, probs = line.strip('\\n').split('\\t')[1:]\n",
    "    lm_id.append(ID)\n",
    "    lm_probs_dict[ID] = probs.split(',')\n",
    "\n",
    "infile.close()\n",
    "lm_id = np.random.permutation(lm_id).tolist()"
   ]
  },
  {
   "cell_type": "code",
   "execution_count": 15,
   "metadata": {},
   "outputs": [],
   "source": [
    "tg_id = [] \n",
    "tg_probs_dict = {}\n",
    "infile = open(TG_ID)\n",
    "for line in infile:\n",
    "    ID, probs = line.strip('\\n').split('\\t')[1:]\n",
    "    tg_id.append(ID)\n",
    "    tg_probs_dict[ID] = probs.split(',')\n",
    "\n",
    "infile.close()\n",
    "tg_id = np.random.permutation(tg_id).tolist()"
   ]
  },
  {
   "cell_type": "code",
   "execution_count": 16,
   "metadata": {},
   "outputs": [],
   "source": [
    "bgedv2_data = parse(BGEDV2_GCTX).data_df.astype(np.float32)"
   ]
  },
  {
   "cell_type": "code",
   "execution_count": 17,
   "metadata": {},
   "outputs": [],
   "source": [
    "bgedv2_genes_ = parse(BGEDV2_GCTX, convert_neg_666=True, rid=None, cid=None, ridx=None, cidx=None,\n",
    "          row_meta_only=True, col_meta_only=False, make_multiindex=False)"
   ]
  },
  {
   "cell_type": "code",
   "execution_count": 18,
   "metadata": {},
   "outputs": [],
   "source": [
    "bgedv2_genes=np.array(bgedv2_genes_.index)"
   ]
  },
  {
   "cell_type": "code",
   "execution_count": 19,
   "metadata": {},
   "outputs": [],
   "source": [
    "bgedv2_samples_ = parse(BGEDV2_GCTX, convert_neg_666=True, rid=None, cid=None, ridx=None, cidx=None,\n",
    "          row_meta_only=False, col_meta_only=True, make_multiindex=False)"
   ]
  },
  {
   "cell_type": "code",
   "execution_count": 20,
   "metadata": {},
   "outputs": [],
   "source": [
    "bgedv2_samples=np.array(bgedv2_samples_.index)"
   ]
  },
  {
   "cell_type": "code",
   "execution_count": 21,
   "metadata": {},
   "outputs": [],
   "source": [
    "samples_idx = samples_idx_nodup\n",
    "samples_id = np.array(bgedv2_samples)[samples_idx]"
   ]
  },
  {
   "cell_type": "code",
   "execution_count": 22,
   "metadata": {},
   "outputs": [],
   "source": [
    "outfile = open('bgedv2_GTEx_1000G_sp.txt', 'w')\n",
    "for i in range(0, len(samples_id)):\n",
    "    outfile.write(str(samples_idx[i]) + '\\t' + samples_id[i] + '\\n')\n",
    "    \n",
    "outfile.close()"
   ]
  },
  {
   "cell_type": "code",
   "execution_count": null,
   "metadata": {},
   "outputs": [],
   "source": [
    "'''\n",
    "data_lm = np.zeros((len(lm_id), len(samples_id)), dtype='float32')\n",
    "outfile = open('bgedv2_GTEx_1000G_lm.txt', 'w')\n",
    "for i in range(len(lm_id)):\n",
    "    probs_id = lm_probs_dict[lm_id[i]]\n",
    "    probs_idx=np.where(np.array(bgedv2_genes_.index.tolist())==probs_id)[0].tolist()\n",
    "    probs_data=np.array(bgedv2_data)[np.ix_(probs_idx, samples_idx)]\n",
    "    probs_mean = probs_data.mean(axis=0)\n",
    "    data_lm[i, :] = probs_mean\n",
    "    outfile.write(lm_id[i] + '\\t' + ','.join(map(str, probs_idx)) + '\\t' + ','.join(map(str, probs_id)) + '\\n')\n",
    "    \n",
    "outfile.close()   \n",
    "'''"
   ]
  },
  {
   "cell_type": "code",
   "execution_count": 23,
   "metadata": {},
   "outputs": [],
   "source": [
    "data_tg = np.zeros((len(tg_id), len(samples_id)), dtype='float64')\n",
    "outfile = open('bgedv2_GTEx_1000G_tg.txt', 'w')\n",
    "for i in range(len(tg_id)):\n",
    "    probs_id = tg_probs_dict[tg_id[i]]\n",
    "    probs_idx=[np.where(np.array(bgedv2_genes_.index.tolist())==probs_id_i)[0][0] for probs_id_i in probs_id]\n",
    "    probs_data=np.array(bgedv2_data)[np.ix_(probs_idx, samples_idx)]\n",
    "    probs_mean = probs_data.mean(axis=0)\n",
    "    data_tg[i, :] = probs_mean\n",
    "    outfile.write(tg_id[i] + '\\t' + ','.join([str(probs_idx_i) for probs_idx_i in probs_idx]) + '\\t' + ','.join([str(probs_id_i) for probs_id_i in probs_id]) + '\\n')\n",
    "    \n",
    "outfile.close()\n",
    "\n",
    "'''\n",
    "data = np.vstack((data_lm, data_tg))\n",
    "    \n",
    "np.save('bgedv2_GTEx_1000G_float32.npy', data)\n",
    "'''\n",
    "\n",
    "np.save('bgedv2_GTEx_1000G_float32_tg.npy', data_tg)"
   ]
  },
  {
   "cell_type": "code",
   "execution_count": null,
   "metadata": {},
   "outputs": [],
   "source": []
  }
 ],
 "metadata": {
  "kernelspec": {
   "display_name": "Python 3",
   "language": "python",
   "name": "python3"
  },
  "language_info": {
   "codemirror_mode": {
    "name": "ipython",
    "version": 3
   },
   "file_extension": ".py",
   "mimetype": "text/x-python",
   "name": "python",
   "nbconvert_exporter": "python",
   "pygments_lexer": "ipython3",
   "version": "3.6.9"
  }
 },
 "nbformat": 4,
 "nbformat_minor": 4
}
