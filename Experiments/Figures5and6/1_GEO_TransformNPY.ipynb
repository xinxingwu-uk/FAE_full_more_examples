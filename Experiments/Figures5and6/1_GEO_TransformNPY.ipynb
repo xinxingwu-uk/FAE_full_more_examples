{
 "cells": [
  {
   "cell_type": "code",
   "execution_count": 1,
   "metadata": {},
   "outputs": [],
   "source": [
    "import logging\n",
    "import cmapPy.pandasGEXpress.setup_GCToo_logger as setup_logger\n",
    "import cmapPy.pandasGEXpress.parse_gct as parse_gct\n",
    "import cmapPy.pandasGEXpress.parse_gctx as parse_gctx\n",
    "import numpy as np"
   ]
  },
  {
   "cell_type": "code",
   "execution_count": 2,
   "metadata": {},
   "outputs": [],
   "source": [
    "logger = logging.getLogger(setup_logger.LOGGER_NAME)\n",
    "\n",
    "def parse(file_path, convert_neg_666=True, rid=None, cid=None, ridx=None, cidx=None,\n",
    "          row_meta_only=False, col_meta_only=False, make_multiindex=False):\n",
    "    if file_path.endswith(\".gct\"):\n",
    "        out = parse_gct.parse(file_path, convert_neg_666=convert_neg_666,\n",
    "                              rid=rid, cid=cid, ridx=ridx, cidx=cidx,\n",
    "                              row_meta_only=row_meta_only, col_meta_only=col_meta_only,\n",
    "                              make_multiindex=make_multiindex)\n",
    "\n",
    "    elif file_path.endswith(\".gctx\"):\n",
    "        out = parse_gctx.parse(file_path, convert_neg_666=convert_neg_666,\n",
    "                              rid=rid, cid=cid, ridx=ridx, cidx=cidx,\n",
    "                              row_meta_only=row_meta_only, col_meta_only=col_meta_only,\n",
    "                              make_multiindex=make_multiindex)\n",
    "\n",
    "    else:\n",
    "        err_msg = \"File to parse must be .gct or .gctx!\"\n",
    "        logger.error(err_msg)\n",
    "        raise Exception(err_msg)\n",
    "\n",
    "    return out"
   ]
  },
  {
   "cell_type": "code",
   "execution_count": 3,
   "metadata": {},
   "outputs": [],
   "source": [
    "path='./bgedv2_QNORM.gctx'\n",
    "outfile='./bgedv2_float32.npy'"
   ]
  },
  {
   "cell_type": "code",
   "execution_count": 4,
   "metadata": {},
   "outputs": [
    {
     "name": "stdout",
     "output_type": "stream",
     "text": [
      "data.shape (22268, 129158)\n"
     ]
    }
   ],
   "source": [
    "data = parse(path)\n",
    "print(\"data.shape\",data.data_df.shape)"
   ]
  },
  {
   "cell_type": "code",
   "execution_count": 5,
   "metadata": {},
   "outputs": [],
   "source": [
    "np.save(outfile,data.data_df.astype(np.float32))"
   ]
  },
  {
   "cell_type": "code",
   "execution_count": null,
   "metadata": {},
   "outputs": [],
   "source": []
  }
 ],
 "metadata": {
  "kernelspec": {
   "display_name": "Python 3",
   "language": "python",
   "name": "python3"
  },
  "language_info": {
   "codemirror_mode": {
    "name": "ipython",
    "version": 3
   },
   "file_extension": ".py",
   "mimetype": "text/x-python",
   "name": "python",
   "nbconvert_exporter": "python",
   "pygments_lexer": "ipython3",
   "version": "3.6.9"
  }
 },
 "nbformat": 4,
 "nbformat_minor": 4
}
