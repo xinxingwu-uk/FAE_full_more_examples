{
 "cells": [
  {
   "cell_type": "code",
   "execution_count": 1,
   "metadata": {},
   "outputs": [
    {
     "name": "stderr",
     "output_type": "stream",
     "text": [
      "/usr/local/lib/python3.7/site-packages/tensorflow/python/framework/dtypes.py:516: FutureWarning: Passing (type, 1) or '1type' as a synonym of type is deprecated; in a future version of numpy, it will be understood as (type, (1,)) / '(1,)type'.\n",
      "  _np_qint8 = np.dtype([(\"qint8\", np.int8, 1)])\n",
      "/usr/local/lib/python3.7/site-packages/tensorflow/python/framework/dtypes.py:517: FutureWarning: Passing (type, 1) or '1type' as a synonym of type is deprecated; in a future version of numpy, it will be understood as (type, (1,)) / '(1,)type'.\n",
      "  _np_quint8 = np.dtype([(\"quint8\", np.uint8, 1)])\n",
      "/usr/local/lib/python3.7/site-packages/tensorflow/python/framework/dtypes.py:518: FutureWarning: Passing (type, 1) or '1type' as a synonym of type is deprecated; in a future version of numpy, it will be understood as (type, (1,)) / '(1,)type'.\n",
      "  _np_qint16 = np.dtype([(\"qint16\", np.int16, 1)])\n",
      "/usr/local/lib/python3.7/site-packages/tensorflow/python/framework/dtypes.py:519: FutureWarning: Passing (type, 1) or '1type' as a synonym of type is deprecated; in a future version of numpy, it will be understood as (type, (1,)) / '(1,)type'.\n",
      "  _np_quint16 = np.dtype([(\"quint16\", np.uint16, 1)])\n",
      "/usr/local/lib/python3.7/site-packages/tensorflow/python/framework/dtypes.py:520: FutureWarning: Passing (type, 1) or '1type' as a synonym of type is deprecated; in a future version of numpy, it will be understood as (type, (1,)) / '(1,)type'.\n",
      "  _np_qint32 = np.dtype([(\"qint32\", np.int32, 1)])\n",
      "/usr/local/lib/python3.7/site-packages/tensorflow/python/framework/dtypes.py:525: FutureWarning: Passing (type, 1) or '1type' as a synonym of type is deprecated; in a future version of numpy, it will be understood as (type, (1,)) / '(1,)type'.\n",
      "  np_resource = np.dtype([(\"resource\", np.ubyte, 1)])\n",
      "/usr/local/lib/python3.7/site-packages/tensorboard/compat/tensorflow_stub/dtypes.py:541: FutureWarning: Passing (type, 1) or '1type' as a synonym of type is deprecated; in a future version of numpy, it will be understood as (type, (1,)) / '(1,)type'.\n",
      "  _np_qint8 = np.dtype([(\"qint8\", np.int8, 1)])\n",
      "/usr/local/lib/python3.7/site-packages/tensorboard/compat/tensorflow_stub/dtypes.py:542: FutureWarning: Passing (type, 1) or '1type' as a synonym of type is deprecated; in a future version of numpy, it will be understood as (type, (1,)) / '(1,)type'.\n",
      "  _np_quint8 = np.dtype([(\"quint8\", np.uint8, 1)])\n",
      "/usr/local/lib/python3.7/site-packages/tensorboard/compat/tensorflow_stub/dtypes.py:543: FutureWarning: Passing (type, 1) or '1type' as a synonym of type is deprecated; in a future version of numpy, it will be understood as (type, (1,)) / '(1,)type'.\n",
      "  _np_qint16 = np.dtype([(\"qint16\", np.int16, 1)])\n",
      "/usr/local/lib/python3.7/site-packages/tensorboard/compat/tensorflow_stub/dtypes.py:544: FutureWarning: Passing (type, 1) or '1type' as a synonym of type is deprecated; in a future version of numpy, it will be understood as (type, (1,)) / '(1,)type'.\n",
      "  _np_quint16 = np.dtype([(\"quint16\", np.uint16, 1)])\n",
      "/usr/local/lib/python3.7/site-packages/tensorboard/compat/tensorflow_stub/dtypes.py:545: FutureWarning: Passing (type, 1) or '1type' as a synonym of type is deprecated; in a future version of numpy, it will be understood as (type, (1,)) / '(1,)type'.\n",
      "  _np_qint32 = np.dtype([(\"qint32\", np.int32, 1)])\n",
      "/usr/local/lib/python3.7/site-packages/tensorboard/compat/tensorflow_stub/dtypes.py:550: FutureWarning: Passing (type, 1) or '1type' as a synonym of type is deprecated; in a future version of numpy, it will be understood as (type, (1,)) / '(1,)type'.\n",
      "  np_resource = np.dtype([(\"resource\", np.ubyte, 1)])\n",
      "Using TensorFlow backend.\n"
     ]
    }
   ],
   "source": [
    "#----------------------------Reproducible----------------------------------------------------------------------------------------\n",
    "import numpy as np\n",
    "import tensorflow as tf\n",
    "import random as rn\n",
    "import os\n",
    "\n",
    "seed=0\n",
    "os.environ['PYTHONHASHSEED'] = str(seed)\n",
    "\n",
    "np.random.seed(seed)\n",
    "rn.seed(seed)\n",
    "#session_conf = tf.ConfigProto(intra_op_parallelism_threads=1, inter_op_parallelism_threads=1)\n",
    "session_conf =tf.compat.v1.ConfigProto(intra_op_parallelism_threads=1, inter_op_parallelism_threads=1)\n",
    "\n",
    "from keras import backend as K\n",
    "\n",
    "#tf.set_random_seed(seed)\n",
    "tf.compat.v1.set_random_seed(seed)\n",
    "#sess = tf.Session(graph=tf.get_default_graph(), config=session_conf)\n",
    "sess = tf.compat.v1.Session(graph=tf.compat.v1.get_default_graph(), config=session_conf)\n",
    "\n",
    "K.set_session(sess)\n",
    "#----------------------------Reproducible----------------------------------------------------------------------------------------\n",
    "\n",
    "os.environ['TF_CPP_MIN_LOG_LEVEL'] = '3'\n",
    "\n",
    "#--------------------------------------------------------------------------------------------------------------------------------\n",
    "from keras.datasets import mnist\n",
    "from keras.models import Model\n",
    "from keras.layers import Dense, Input, Flatten, Activation, Dropout, Layer\n",
    "from keras.layers.normalization import BatchNormalization\n",
    "from keras.utils import to_categorical\n",
    "from keras import optimizers,initializers,constraints,regularizers\n",
    "from keras import backend as K\n",
    "from keras.callbacks import LambdaCallback,ModelCheckpoint\n",
    "from keras.utils import plot_model\n",
    "\n",
    "from sklearn.model_selection import StratifiedKFold\n",
    "from sklearn.ensemble import ExtraTreesClassifier\n",
    "from sklearn import svm\n",
    "from sklearn.model_selection import cross_val_score\n",
    "from sklearn.model_selection import ShuffleSplit\n",
    "from sklearn.model_selection import train_test_split\n",
    "from sklearn.metrics import accuracy_score\n",
    "from sklearn.svm import SVC\n",
    "\n",
    "import h5py\n",
    "import math\n",
    "import matplotlib\n",
    "import matplotlib.pyplot as plt\n",
    "import matplotlib.cm as cm\n",
    "\n",
    "import pandas as pd\n",
    "from sklearn.impute import SimpleImputer \n",
    "from sklearn.model_selection import train_test_split\n",
    "import matplotlib.patches as mpatches\n",
    "import matplotlib as mpl\n",
    "\n",
    "#--------------------------------------------------------------------------------------------------------------------------------\n",
    "#Import ourslef defined methods\n",
    "import sys\n",
    "sys.path.append(r\"./Defined\")\n",
    "import Functions as F\n",
    "\n",
    "# The following code should be added before the keras model\n",
    "#np.random.seed(seed)"
   ]
  },
  {
   "cell_type": "code",
   "execution_count": 2,
   "metadata": {},
   "outputs": [
    {
     "name": "stdout",
     "output_type": "stream",
     "text": [
      "Shape of xy_train: (88807, 10463)\n",
      "Shape of xy_validate: (11101, 10463)\n",
      "Shape of xy_test: (11101, 10463)\n"
     ]
    }
   ],
   "source": [
    "xy_train = np.load('bgedv2_XY_tr_float32.npy')\n",
    "xy_validate = np.load('bgedv2_XY_va_float32.npy')\n",
    "\n",
    "print('Shape of xy_train: ' + str(xy_train.shape)) \n",
    "print('Shape of xy_validate: ' + str(xy_validate.shape)) \n",
    "\n",
    "xy_test = np.load('bgedv2_XY_te_float32.npy')\n",
    "print('Shape of xy_test: ' + str(xy_test.shape))"
   ]
  },
  {
   "cell_type": "code",
   "execution_count": 3,
   "metadata": {},
   "outputs": [
    {
     "data": {
      "text/plain": [
       "(99908, 10463)"
      ]
     },
     "execution_count": 3,
     "metadata": {},
     "output_type": "execute_result"
    }
   ],
   "source": [
    "xy_train_validate=np.r_[xy_train,xy_validate]\n",
    "xy_train_validate.shape"
   ]
  },
  {
   "cell_type": "code",
   "execution_count": 4,
   "metadata": {},
   "outputs": [],
   "source": [
    "LM_ID = 'map_lm.txt'\n",
    "TG_ID = 'map_tg_merge.txt'\n",
    "\n",
    "LM_ID_infile = open(LM_ID)\n",
    "LM_ID_infile_list=[]\n",
    "for line in LM_ID_infile:\n",
    "    LM_ID_infile_list.append(line.split('\\t')[0])\n",
    "    \n",
    "TG_ID_infile = open(TG_ID)\n",
    "TG_ID_infile_list=[]\n",
    "for line in TG_ID_infile:\n",
    "    TG_ID_infile_list.append(line.split('\\t')[0])"
   ]
  },
  {
   "cell_type": "code",
   "execution_count": 5,
   "metadata": {},
   "outputs": [],
   "source": [
    "LM_ID_arr=np.array(LM_ID_infile_list)\n",
    "TG_ID_arr=np.array(TG_ID_infile_list)"
   ]
  },
  {
   "cell_type": "code",
   "execution_count": 6,
   "metadata": {
    "scrolled": true
   },
   "outputs": [
    {
     "data": {
      "text/plain": [
       "array(['UBE2C', 'RBKS', 'SLC2A6', 'DAXX', 'GNAS', 'H2AFV', 'ABHD6',\n",
       "       'PGM1', 'CCNB1', 'S100A4', 'NOTCH1', 'TERT', 'BNIP3', 'ITGB1BP1',\n",
       "       'ID2', 'POLR1C', 'TSPAN4', 'NSDHL', 'FAH', 'TRIM2', 'PAK6',\n",
       "       'IKBKB', 'ACOT9', 'FBXO7', 'FYN', 'TRAP1', 'MBNL1', 'YTHDF1',\n",
       "       'DFFB', 'BAX', 'HOOK2', 'ABCF3', 'SPRED2', 'ENOPH1', 'MYLK',\n",
       "       'PRKACA', 'HPRT1', 'NUDT9', 'LSR', 'MALT1', 'PIN1', 'PPP2R5A',\n",
       "       'ZMIZ1', 'CETN3', 'DUSP22', 'TRIB1', 'GTPBP8', 'LYPLA1', 'PIP4K2B',\n",
       "       'ENOSF1', 'USP14', 'CDC25B', 'SCARB1', 'PYGL', 'CCNA2', 'IL13RA1',\n",
       "       'PSME2', 'SPR', 'LRPAP1', 'PIK3C3', 'EML3', 'SERPINE1', 'GNAI1',\n",
       "       'SMAD3', 'TGFBR2', 'PFKL', 'PLEKHJ1', 'ACAA1', 'RUVBL1', 'ABCC5',\n",
       "       'DSG2', 'SLC25A13', 'SUPV3L1', 'MAPKAPK5', 'SCYL3', 'NFKBIB',\n",
       "       'SLC25A46', 'GNAI2', 'DNAJC15', 'TRIB3', 'RFNG', 'TSEN2', 'KIF5C',\n",
       "       'TXLNA', 'GDPD5', 'RAI14', 'EIF5', 'PSMF1', 'KIAA0907', 'CCNA1',\n",
       "       'DFFA', 'PCBD1', 'CGRRF1', 'MAP4K4', 'TARBP1', 'IL4R', 'ICAM3',\n",
       "       'MTA1', 'PPOX', 'RAD51C', 'MCM3', 'SDHB', 'LIG1', 'TERF2IP',\n",
       "       'CDC42', 'CD58', 'SOX4', 'TRAPPC3', 'NUP93', 'IKZF1', 'RRP8',\n",
       "       'VAT1', 'PLP2', 'RRP1B', 'DNM1', 'LAMA3', 'CCNF', 'CCDC86',\n",
       "       'ERBB2', 'CHERP', 'APOE', 'TMEM2', 'OXSR1', 'PSMB8', 'FEZ2',\n",
       "       'AURKA', 'KIF20A', 'DUSP14', 'HES1', 'NPDC1', 'CSNK1E', 'DNAJA3',\n",
       "       'RFC2', 'MSH6', 'FAM63A', 'BDH1', 'HYOU1', 'G3BP1', 'TESK1',\n",
       "       'PPIC', 'CCND1', 'SKP1', 'ZNF274', 'STAP2', 'TCTN1', 'JUN',\n",
       "       'TM9SF2', 'ELAVL1', 'BCL7B', 'EGFR', 'SOCS2', 'CBLB', 'SACM1L',\n",
       "       'KDM5A', 'CDC25A', 'RAC2', 'FKBP14', 'PHKA1', 'GMNN', 'CHIC2',\n",
       "       'CAT', 'PTK2B', 'PLSCR1', 'CYCS', 'PTPLAD1', 'JMJD6', 'HERPUD1',\n",
       "       'CASP10', 'S100A13', 'BLVRA', 'AKAP8', 'NOLC1', 'COL1A1', 'NUP133',\n",
       "       'TEX10', 'PWP1', 'VPS28', 'PTPRF', 'GNA15', 'ADI1', 'CNPY3',\n",
       "       'HSPB1', 'SSBP2', 'SMARCC1', 'INPP1', 'NUP85', 'CDK19', 'ACBD3',\n",
       "       'BUB1B', 'RBM34', 'CD320', 'TIPARP', 'FPGS', 'YME1L1', 'CHMP6',\n",
       "       'ATP6V0B', 'LGMN', 'MSRA', 'TPM1', 'CCNH', 'HMOX1', 'TMEM110',\n",
       "       'MAPK1IP1L', 'ICMT', 'HMG20B', 'FAM57A', 'RNPS1', 'IKBKE', 'ABL1',\n",
       "       'STK10', 'SLC35F2', 'PSMD10', 'CCND3', 'CAB39', 'BAD', 'METRN',\n",
       "       'ATG3', 'SYNE2', 'ITGB5', 'BRCA1', 'ATP2C1', 'UBQLN2', 'ITGAE',\n",
       "       'PIH1D1', 'AKR7A2', 'NET1', 'ARL4C', 'HEBP1', 'WDR7', 'MTF2',\n",
       "       'UBE3C', 'CNOT4', 'RNH1', 'RPL39L', 'CRK', 'FASTKD5', 'SATB1',\n",
       "       'PNKP', 'MACF1', 'PSIP1', 'EDN1', 'RASA1', 'RGS2', 'PSMD4', 'HN1L',\n",
       "       'GADD45A', 'CHMP4A', 'VAPB', 'FOXJ3', 'PTPN12', 'TIMELESS',\n",
       "       'PHF15', 'LYN', 'GNA11', 'GAPDH', 'GSTZ1', 'PSMG1', 'TOPBP1',\n",
       "       'RPS5', 'SQSTM1', 'EIF4EBP1', 'PTPRK', 'CIRBP', 'IFRD2', 'CD97',\n",
       "       'APPBP2', 'RPP38', 'ADH5', 'CYB561', 'SUV39H1', 'WFS1', 'CRTAP',\n",
       "       'APBB2', 'GHR', 'BIRC5', 'USP1', 'BIRC2', 'RALA', 'LRRC16A',\n",
       "       'DECR1', 'GATA3', 'MTHFD2', 'SPEN', 'KIF14', 'GLOD4', 'APP',\n",
       "       'NR2F6', 'SNX7', 'PLCB3', 'GFOD1', 'GTF2E2', 'KIAA0753', 'SORBS3',\n",
       "       'TOR1A', 'UBE2J1', 'FHL2', 'STK25', 'SIRT3', 'ADCK3', 'PNP',\n",
       "       'TRIM13', 'GAA', 'PIGB', 'SNX6', 'HS2ST1', 'EPN2', 'SCCPDH',\n",
       "       'ANO10', 'FAM20B', 'RPIA', 'STXBP2', 'PPP1R13B', 'GSTM2',\n",
       "       'TMEM109', 'DNAJB2', 'NIPSNAP1', 'PSMD9', 'TBPL1', 'BLCAP', 'PAK1',\n",
       "       'IL1B', 'MAP7', 'KLHDC2', 'POLE2', 'EXOSC4', 'BHLHE40', 'CASC3',\n",
       "       'PTPN6', 'ORC1', 'HMGCR', 'PRKCQ', 'UGDH', 'MAPKAPK2', 'COPS7A',\n",
       "       'CHAC1', 'PPP2R3C', 'ADO', 'MLEC', 'VPS72', 'TATDN2', 'DDB2',\n",
       "       'SESN1', 'PIK3C2B', 'SUZ12', 'ABHD4', 'IPO13', 'CERK', 'EED',\n",
       "       'PIK3R3', 'MKNK1', 'FZD1', 'RRP12', 'CDC20', 'IKBKAP', 'HIF1A',\n",
       "       'NFATC3', 'HMGCS1', 'FRS2', 'RHEB', 'ADAT1', 'SHC1', 'KIAA1033',\n",
       "       'ZNF318', 'MELK', 'NFKBIA', 'SMC4', 'SLC1A4', 'USP6NL', 'EBP',\n",
       "       'BAG3', 'PAICS', 'HOXA10', 'SNX13', 'HSPA8', 'RRAGA', 'CD44',\n",
       "       'RPS6KA1', 'ABCB6', 'NFKB2', 'POLD4', 'ACAT2', 'BAMBI', 'POLR2K',\n",
       "       'CAPN1', 'PHKG2', 'ILK', 'NENF', 'NNT', 'SLC25A14', 'HSPD1',\n",
       "       'RNF167', 'CDK2', 'MBNL2', 'MBTPS1', 'ICAM1', 'TIMM17B', 'SLC27A3',\n",
       "       'LBR', 'SMARCA4', 'NR1H2', 'STUB1', 'TRAPPC6A', 'CDK1', 'FCHO1',\n",
       "       'CREG1', 'TRAM2', 'TMCO1', 'PPP2R5E', 'YKT6', 'ZDHHC6', 'PLK1',\n",
       "       'CHEK2', 'DDX10', 'CDK7', 'DDIT4', 'KDM5B', 'TP53BP2', 'CD40',\n",
       "       'CLTB', 'CAST', 'SCP2', 'TM9SF3', 'ACD', 'RPN1', 'KIAA0196',\n",
       "       'STAT3', 'DENND2D', 'PRUNE', 'ADRB2', 'IGF1R', 'ANXA7', 'ASCC3',\n",
       "       'PTPRC', 'ATP1B1', 'PACSIN3', 'MAPK9', 'NARFL', 'SLC35A1',\n",
       "       'NUSAP1', 'PSMD2', 'NUP62', 'LAGE3', 'GPATCH8', 'DUSP11', 'PRKCH',\n",
       "       'WASF3', 'DHRS7', 'FOS', 'TMED10', 'TOP2A', 'NT5DC2', 'ARID5B',\n",
       "       'VDAC1', 'TBP', 'TPD52L2', 'DERA', 'PLEKHM1', 'ERBB3', 'PSME1',\n",
       "       'REEP5', 'WDTC1', 'MTERFD1', 'SYNGR3', 'KTN1', 'ALDOC', 'TSPAN6',\n",
       "       'ETFB', 'VAV3', 'GOLT1B', 'PTPN1', 'VGLL4', 'HIST1H2BK', 'PYCR1',\n",
       "       'MAPK13', 'AURKB', 'ECH1', 'NUCB2', 'C2CD2L', 'CCP110', 'DCK',\n",
       "       'ATP6V1D', 'PIK3R4', 'MAP3K4', 'CNDP2', 'PCNA', 'KLHL21',\n",
       "       'CSNK1A1', 'GFPT1', 'MAT2A', 'GNB5', 'CHN1', 'BCL2', 'NPRL2',\n",
       "       'PECR', 'SMARCD2', 'DLD', 'PAFAH1B3', 'NRAS', 'WRB', 'RHOA',\n",
       "       'NMT1', 'TBC1D9B', 'DMTF1', 'NVL', 'DAG1', 'CALU', 'STAT1',\n",
       "       'ARNT2', 'PHKB', 'PARP1', 'C5', 'PPARD', 'DUSP6', 'INSIG1', 'RPA1',\n",
       "       'ZNF395', 'CASP2', 'PIK3CA', 'ALAS1', 'ST3GAL5', 'FIS1', 'PSMB10',\n",
       "       'TXNRD1', 'ATP5S', 'USP7', 'TLR4', 'SHB', 'MTFR1', 'NFATC4',\n",
       "       'CIAPIN1', 'NPEPL1', 'HDAC6', 'DUSP4', 'DUSP3', 'ARID4B', 'ST7',\n",
       "       'HOXA5', 'CAMSAP2', 'FKBP4', 'USP22', 'GLRX', 'TP53BP1', 'MBOAT7',\n",
       "       'CDKN1A', 'SYK', 'GRB10', 'NFIL3', 'HDAC2', 'ETS1', 'EPHB2',\n",
       "       'ATF6', 'PAK4', 'TMEM5', 'IGF2R', 'OXA1L', 'HSPA4', 'MYCBP2',\n",
       "       'PDLIM1', 'SQRDL', 'MVP', 'TBXA2R', 'TUBB6', 'CREB1', 'SMNDC1',\n",
       "       'GPR56', 'PRSS23', 'KIAA0355', 'PDGFA', 'FBXO11', 'MEST', 'RFX5',\n",
       "       'POLB', 'AARS', 'PXMP2', 'MRPS16', 'TWF2', 'P4HTM', 'FDFT1',\n",
       "       'SGCB', 'BTK', 'PDHX', 'CPNE3', 'CTNNAL1', 'TIMM22', 'TES',\n",
       "       'PUF60', 'RTN2', 'CBR3', 'RPS6', 'PCMT1', 'NFE2L2', 'COASY',\n",
       "       'HLA-DRA', 'CCDC85B', 'FSD1', 'KIT', 'AXIN1', 'PDS5A', 'RFC5',\n",
       "       'ARPP19', 'PTGS2', 'C2CD2', 'UBR7', 'ZNF451', 'TNIP1', 'LPAR2',\n",
       "       'MEF2C', 'CDKN2A', 'HIST2H2BE', 'FOXO4', 'PRKCD', 'ARHGEF2',\n",
       "       'LPGAT1', 'POLR2I', 'RAB11FIP2', 'SLC35B1', 'GADD45B', 'COL4A1',\n",
       "       'MAPKAPK3', 'MAP2K5', 'FOSL1', 'DPH2', 'PLS1', 'PRAF2', 'DCTD',\n",
       "       'BID', 'ASAH1', 'HSD17B11', 'MUC1', 'CDH3', 'RAP1GAP', 'TFDP1',\n",
       "       'HDGFRP3', 'CCNB2', 'ATF5', 'CANT1', 'TIAM1', 'SMC3', 'FOXO3',\n",
       "       'PRCP', 'SMC1A', 'HEATR1', 'IGHMBP2', 'MYL9', 'PGRMC1', 'CLSTN1',\n",
       "       'SLC25A4', 'AGL', 'ZMYM2', 'PRKAG2', 'TCERG1', 'SNX11', 'BLMH',\n",
       "       'EPB41L2', 'HSD17B10', 'TGFB3', 'BECN1', 'MRPL19', 'CLPX', 'RBM6',\n",
       "       'TSC22D3', 'TCTA', 'MYCBP', 'ADAM10', 'NUP88', 'DRAP1', 'HADH',\n",
       "       'CISD1', 'POLG2', 'TRAK2', 'DYNLT3', 'PCM1', 'ITFG1', 'GRB7',\n",
       "       'CDK6', 'PLA2G4A', 'EGR1', 'DNM1L', 'ISOC1', 'TXNDC9', 'GNPDA1',\n",
       "       'PCK2', 'EZH2', 'DCUN1D4', 'XPO7', 'KIAA0100', 'MAN2B1', 'RB1',\n",
       "       'DDR1', 'TMEM50A', 'BACE2', 'ME2', 'EXT1', 'MYBL2', 'TCEA2',\n",
       "       'EDEM1', 'GRN', 'PGAM1', 'TJP1', 'RAB4A', 'UFM1', 'KEAP1', 'SENP6',\n",
       "       'SPAG4', 'CLTC', 'CALM3', 'CTSD', 'BZW2', 'MYO10', 'ARHGAP1',\n",
       "       'SLC11A2', 'PPARG', 'ARFIP2', 'MYC', 'CSK', 'SRC', 'PXN', 'TICAM1',\n",
       "       'PLOD3', 'CSNK2A2', 'NFKBIE', 'TXNL4B', 'CTNND1', 'PHGDH', 'AKT1',\n",
       "       'FZD7', 'RALGDS', 'GRWD1', 'BPHL', 'MNAT1', 'COG7', 'CDCA4',\n",
       "       'DNAJB1', 'SPDEF', 'FBXO21', 'NCAPD2', 'TNFRSF21', 'BMP4', 'PRR7',\n",
       "       'CASP7', 'TCEAL4', 'SKIV2L', 'TFAP2A', 'PTK2', 'DNMT1', 'MCOLN1',\n",
       "       'DHX29', 'TIMM9', 'NPC1', 'UBE2L6', 'FAS', 'CDK4', 'KCTD5', 'EAPP',\n",
       "       'PDIA5', 'KDELR2', 'PMAIP1', 'RPA3', 'LGALS8', 'SPP1', 'KAT6A',\n",
       "       'FGFR4', 'INPP4B', 'SCAND1', 'ABCF1', 'OXCT1', 'NOS3', 'DNMT3A',\n",
       "       'RPA2', 'RALB', 'GPER', 'SYPL1', 'IARS2', 'CENPE', 'ATF1',\n",
       "       'BNIP3L', 'COG2', 'STAT5B', 'IDE', 'LRRC41', 'NOL3', 'RNMT',\n",
       "       'SH3BP5', 'ATMIN', 'CTTN', 'WDR61', 'XBP1', 'EIF4G1', 'KCNK1',\n",
       "       'SPTLC2', 'LIPA', 'PSRC1', 'ZNF589', 'STX4', 'ELAC2', 'NOSIP',\n",
       "       'DNTTIP2', 'CDKN1B', 'TMEM97', 'ERO1L', 'HTATSF1', 'DYRK3',\n",
       "       'SLC37A4', 'FAT1', 'ACLY', 'CRKL', 'XPNPEP1', 'COPB2', 'ECD',\n",
       "       'CRYZ', 'LAP3', 'MOK', 'ALDH7A1', 'B3GNT1', 'TOMM70A', 'PPIE',\n",
       "       'TOMM34', 'EPRS', 'RAB31', 'SFN', 'KAT6B', 'PAX8', 'AKAP8L',\n",
       "       'GABPB1', 'NR3C1', 'PCCB', 'STXBP1', 'CFLAR', 'ST6GALNAC2', 'LSM5',\n",
       "       'IGFBP3', 'RAB21', 'MPZL1', 'SLC5A6', 'CORO1A', 'PARP2', 'SPAG7',\n",
       "       'GTF2A2', 'RAB27A', 'UBE2A', 'PAFAH1B1', 'FBXL12', 'RSU1', 'TSTA3',\n",
       "       'COG4', 'NCK2', 'PAN2', 'CCDC92', 'CDK5R1', 'PRR15L', 'HLA-DMA',\n",
       "       'ZFP36', 'TP53', 'CASK', 'P4HA2', 'IER3', 'CCNE2', 'PEX11A',\n",
       "       'ARHGEF12', 'SPTAN1', 'PRPF4', 'MAST2', 'MRPS2', 'NUDCD3', 'E2F2',\n",
       "       'RAE1', 'PMM2', 'CLIC4', 'UTP14A', 'NCOA3', 'TSKU', 'RELB',\n",
       "       'STX1A', 'ZW10', 'HOMER2', 'GPC1', 'PKIG', 'PLA2G15', 'INTS3',\n",
       "       'SLC35A3', 'EBNA1BP2', 'PAPD7', 'LSM6', 'MFSD10', 'GALE', 'CPSF4',\n",
       "       'DNAJB6', 'HK1', 'TIMP2', 'STAMBP', 'CEBPZ', 'EVL', 'ANKRD10',\n",
       "       'ELOVL6', 'SCRN1', 'ATP11B', 'TSPAN3', 'CEBPD', 'CBR1', 'NIT1',\n",
       "       'NCK1', 'CHEK1', 'KIF2C', 'EGF', 'ZNF131', 'FUT1', 'TLK2', 'STMN1',\n",
       "       'IFNAR1', 'KIAA1279', 'LRP10', 'KDM3A', 'CDC45', 'FAM69A', 'CASP3',\n",
       "       'TLE1', 'CYTH1', 'PAF1', 'DHDDS', 'HAT1', 'AMDHD2', 'CSRP1',\n",
       "       'KLHL9', 'ZNF586', 'NISCH', 'MICALL1', 'CXCR4', 'CEP57', 'HERC6',\n",
       "       'FAIM', 'ALDOA', 'UBE3B', 'DDX42', 'RAD9A', 'WIPF2', 'SNCA',\n",
       "       'NRIP1', 'IQGAP1', 'LYRM1', 'PRKX', 'CRELD2', 'TCFL5', 'POP4'],\n",
       "      dtype='<U10')"
      ]
     },
     "execution_count": 6,
     "metadata": {},
     "output_type": "execute_result"
    }
   ],
   "source": [
    "LM_ID_arr"
   ]
  },
  {
   "cell_type": "code",
   "execution_count": 7,
   "metadata": {},
   "outputs": [
    {
     "data": {
      "text/plain": [
       "(943,)"
      ]
     },
     "execution_count": 7,
     "metadata": {},
     "output_type": "execute_result"
    }
   ],
   "source": [
    "landmark_index=np.array([np.where(TG_ID_arr==LM_ID_arr_i)[0][0] for LM_ID_arr_i in LM_ID_arr])\n",
    "\n",
    "np.intersect1d(TG_ID_arr[landmark_index],LM_ID_arr).shape"
   ]
  },
  {
   "cell_type": "code",
   "execution_count": 8,
   "metadata": {
    "scrolled": true
   },
   "outputs": [],
   "source": [
    "train_input=xy_train_validate[:,landmark_index]\n",
    "train_output=xy_train_validate\n",
    "\n",
    "test_input=xy_test[:,landmark_index]\n",
    "test_output=xy_test"
   ]
  },
  {
   "cell_type": "code",
   "execution_count": 9,
   "metadata": {},
   "outputs": [],
   "source": [
    "from sklearn.linear_model import LinearRegression\n",
    "\n",
    "def mse_check(train, test):\n",
    "    LR = LinearRegression(n_jobs = -1)\n",
    "    LR.fit(train[0], train[1])\n",
    "    MSELR = ((LR.predict(test[0]) - test[1]) ** 2).mean()\n",
    "    return MSELR"
   ]
  },
  {
   "cell_type": "code",
   "execution_count": 10,
   "metadata": {},
   "outputs": [
    {
     "name": "stdout",
     "output_type": "stream",
     "text": [
      "0.26325423264377185\n"
     ]
    }
   ],
   "source": [
    "train_feature_tuple=(train_input,train_output)\n",
    "test_feature_tuple=(test_input,test_output)\n",
    "\n",
    "reconstruction_loss=mse_check(train_feature_tuple, test_feature_tuple)\n",
    "print(reconstruction_loss)"
   ]
  },
  {
   "cell_type": "code",
   "execution_count": null,
   "metadata": {},
   "outputs": [],
   "source": []
  }
 ],
 "metadata": {
  "kernelspec": {
   "display_name": "Python 3",
   "language": "python",
   "name": "python3"
  },
  "language_info": {
   "codemirror_mode": {
    "name": "ipython",
    "version": 3
   },
   "file_extension": ".py",
   "mimetype": "text/x-python",
   "name": "python",
   "nbconvert_exporter": "python",
   "pygments_lexer": "ipython3",
   "version": "3.7.8"
  },
  "widgets": {
   "application/vnd.jupyter.widget-state+json": {
    "state": {},
    "version_major": 2,
    "version_minor": 0
   }
  }
 },
 "nbformat": 4,
 "nbformat_minor": 4
}
