{
 "cells": [
  {
   "cell_type": "code",
   "execution_count": 1,
   "metadata": {},
   "outputs": [],
   "source": [
    "import numpy as np"
   ]
  },
  {
   "cell_type": "code",
   "execution_count": 2,
   "metadata": {},
   "outputs": [
    {
     "name": "stdout",
     "output_type": "stream",
     "text": [
      "XY_tr:  (88807, 10463)\n",
      "XY_va:  (11101, 10463)\n",
      "XY_te:  (11101, 10463)\n",
      "Completed!\n"
     ]
    },
    {
     "data": {
      "text/plain": [
       "'\\nX_tr, Y_tr = data_tr[:943, :].transpose(), data_tr[943:, :].transpose()\\nX_va, Y_va = data_va[:943, :].transpose(), data_va[943:, :].transpose()\\nX_te, Y_te = data_te[:943, :].transpose(), data_te[943:, :].transpose()\\n\\nprint(\"X_tr: \",X_tr.shape)\\nprint(\"Y_tr: \",Y_tr.shape)\\nprint(\"X_va: \",X_va.shape)\\nprint(\"Y_va: \",Y_va.shape)\\nprint(\"X_te: \",X_te.shape)\\nprint(\"Y_te: \",Y_te.shape)\\n\\nnp.save(\\'bgedv2_X_tr_float32.npy\\', X_tr)\\nnp.save(\\'bgedv2_X_va_float32.npy\\', X_va)\\nnp.save(\\'bgedv2_X_te_float32.npy\\', X_te)\\nnp.save(\\'bgedv2_Y_tr_float32.npy\\', Y_tr)\\nnp.save(\\'bgedv2_Y_va_float32.npy\\', Y_va)\\nnp.save(\\'bgedv2_Y_te_float32.npy\\', Y_te)\\n\\n#np.save(\\'bgedv2_Y_tr_0-4760_float32.npy\\', Y_tr[:, 0:4760])\\n#np.save(\\'bgedv2_Y_tr_4760-9520_float32.npy\\', Y_tr[:, 4760:9520])\\n\\n#np.save(\\'bgedv2_Y_va_0-4760_float32.npy\\', Y_va[:, 0:4760])\\n#np.save(\\'bgedv2_Y_va_4760-9520_float32.npy\\', Y_va[:, 4760:9520])\\n\\n#np.save(\\'bgedv2_Y_te_0-4760_float32.npy\\', Y_te[:, 0:4760])\\n#np.save(\\'bgedv2_Y_te_4760-9520_float32.npy\\', Y_te[:, 4760:9520])\\n\\nprint(\"Completed!\")\\n'"
      ]
     },
     "execution_count": 2,
     "metadata": {},
     "output_type": "execute_result"
    }
   ],
   "source": [
    "data = np.load('bgedv2_GTEx_1000G_reqnorm_float32_tg.npy')\n",
    "data_means = data.mean(axis=1)\n",
    "data_stds = data.std(axis=1) + 1e-3\n",
    "data = (data - data_means.reshape((10463, 1)))/data_stds.reshape((10463, 1))\n",
    "    \n",
    "data_tr = data[:, :88807]\n",
    "data_va = data[:, 88807:99908]\n",
    "data_te = data[:, 99908:]\n",
    "\n",
    "XY_tr=data_tr.transpose()\n",
    "XY_va=data_va.transpose()\n",
    "XY_te=data_te.transpose()\n",
    "\n",
    "print(\"XY_tr: \",XY_tr.shape)\n",
    "print(\"XY_va: \",XY_va.shape)\n",
    "print(\"XY_te: \",XY_te.shape)\n",
    "\n",
    "np.save('bgedv2_XY_tr_float32.npy', XY_tr)\n",
    "np.save('bgedv2_XY_va_float32.npy', XY_va)\n",
    "np.save('bgedv2_XY_te_float32.npy', XY_te)\n",
    "\n",
    "print(\"Completed!\")\n",
    "\n",
    "'''\n",
    "X_tr, Y_tr = data_tr[:943, :].transpose(), data_tr[943:, :].transpose()\n",
    "X_va, Y_va = data_va[:943, :].transpose(), data_va[943:, :].transpose()\n",
    "X_te, Y_te = data_te[:943, :].transpose(), data_te[943:, :].transpose()\n",
    "\n",
    "print(\"X_tr: \",X_tr.shape)\n",
    "print(\"Y_tr: \",Y_tr.shape)\n",
    "print(\"X_va: \",X_va.shape)\n",
    "print(\"Y_va: \",Y_va.shape)\n",
    "print(\"X_te: \",X_te.shape)\n",
    "print(\"Y_te: \",Y_te.shape)\n",
    "\n",
    "np.save('bgedv2_X_tr_float32.npy', X_tr)\n",
    "np.save('bgedv2_X_va_float32.npy', X_va)\n",
    "np.save('bgedv2_X_te_float32.npy', X_te)\n",
    "np.save('bgedv2_Y_tr_float32.npy', Y_tr)\n",
    "np.save('bgedv2_Y_va_float32.npy', Y_va)\n",
    "np.save('bgedv2_Y_te_float32.npy', Y_te)\n",
    "\n",
    "#np.save('bgedv2_Y_tr_0-4760_float32.npy', Y_tr[:, 0:4760])\n",
    "#np.save('bgedv2_Y_tr_4760-9520_float32.npy', Y_tr[:, 4760:9520])\n",
    "\n",
    "#np.save('bgedv2_Y_va_0-4760_float32.npy', Y_va[:, 0:4760])\n",
    "#np.save('bgedv2_Y_va_4760-9520_float32.npy', Y_va[:, 4760:9520])\n",
    "\n",
    "#np.save('bgedv2_Y_te_0-4760_float32.npy', Y_te[:, 0:4760])\n",
    "#np.save('bgedv2_Y_te_4760-9520_float32.npy', Y_te[:, 4760:9520])\n",
    "\n",
    "print(\"Completed!\")\n",
    "'''"
   ]
  },
  {
   "cell_type": "code",
   "execution_count": null,
   "metadata": {},
   "outputs": [],
   "source": []
  }
 ],
 "metadata": {
  "kernelspec": {
   "display_name": "Python 3",
   "language": "python",
   "name": "python3"
  },
  "language_info": {
   "codemirror_mode": {
    "name": "ipython",
    "version": 3
   },
   "file_extension": ".py",
   "mimetype": "text/x-python",
   "name": "python",
   "nbconvert_exporter": "python",
   "pygments_lexer": "ipython3",
   "version": "3.6.9"
  }
 },
 "nbformat": 4,
 "nbformat_minor": 4
}
