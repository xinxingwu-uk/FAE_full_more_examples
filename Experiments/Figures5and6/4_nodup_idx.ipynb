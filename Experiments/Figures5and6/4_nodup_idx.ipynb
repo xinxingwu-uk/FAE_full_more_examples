{
 "cells": [
  {
   "cell_type": "code",
   "execution_count": 1,
   "metadata": {},
   "outputs": [],
   "source": [
    "import sys\n",
    "    \n",
    "import numpy as np\n",
    "from sklearn.metrics.pairwise import pairwise_distances\n",
    "\n",
    "BGEDV2_DATA = 'bgedv2_float32.npy'\n",
    "LABEL = 'bgedv2_kmeans_100_label.txt'\n",
    "K = 100\n",
    "D_THRED = 1.0"
   ]
  },
  {
   "cell_type": "code",
   "execution_count": 2,
   "metadata": {},
   "outputs": [],
   "source": [
    "def keep(pd_k, idx_k):\n",
    "    n_k = pd_k.shape[0]\n",
    "    I, J = np.where(pd_k < D_THRED)\n",
    "    set_k = set(range(0, n_k))\n",
    "    \n",
    "    for i in range(0, I.size):\n",
    "        idx_i = I[i]\n",
    "        idx_j = J[i]\n",
    "        if idx_i >= idx_j:\n",
    "            continue\n",
    "        \n",
    "        if idx_j in set_k:\n",
    "            set_k.remove(idx_j)\n",
    "        \n",
    "    return idx_k[list(set_k)]"
   ]
  },
  {
   "cell_type": "code",
   "execution_count": 3,
   "metadata": {},
   "outputs": [],
   "source": [
    "data = np.load(BGEDV2_DATA)\n",
    "X = data.transpose()\n",
    "\n",
    "inlabel = open(LABEL)\n",
    "label = []\n",
    "for line in inlabel:\n",
    "    label.append(int(line.strip('\\n')))"
   ]
  },
  {
   "cell_type": "code",
   "execution_count": 4,
   "metadata": {},
   "outputs": [],
   "source": [
    "label = np.array(label)\n",
    "inlabel.close()\n",
    "    \n",
    "idx_keep = []"
   ]
  },
  {
   "cell_type": "code",
   "execution_count": 5,
   "metadata": {
    "scrolled": true
   },
   "outputs": [
    {
     "name": "stdout",
     "output_type": "stream",
     "text": [
      "0\n",
      "1\n",
      "2\n",
      "3\n",
      "4\n",
      "5\n",
      "6\n",
      "7\n",
      "8\n",
      "9\n",
      "10\n",
      "11\n",
      "12\n",
      "13\n",
      "14\n",
      "15\n",
      "16\n",
      "17\n",
      "18\n",
      "19\n",
      "20\n",
      "21\n",
      "22\n",
      "23\n",
      "24\n",
      "25\n",
      "26\n",
      "27\n",
      "28\n",
      "29\n",
      "30\n",
      "31\n",
      "32\n",
      "33\n",
      "34\n",
      "35\n",
      "36\n",
      "37\n",
      "38\n",
      "39\n",
      "40\n",
      "41\n",
      "42\n",
      "43\n",
      "44\n",
      "45\n",
      "46\n",
      "47\n",
      "48\n",
      "49\n",
      "50\n",
      "51\n",
      "52\n",
      "53\n",
      "54\n",
      "55\n",
      "56\n",
      "57\n",
      "58\n",
      "59\n",
      "60\n",
      "61\n",
      "62\n",
      "63\n",
      "64\n",
      "65\n",
      "66\n",
      "67\n",
      "68\n",
      "69\n",
      "70\n",
      "71\n",
      "72\n",
      "73\n",
      "74\n",
      "75\n",
      "76\n",
      "77\n",
      "78\n",
      "79\n",
      "80\n",
      "81\n",
      "82\n",
      "83\n",
      "84\n",
      "85\n",
      "86\n",
      "87\n",
      "88\n",
      "89\n",
      "90\n",
      "91\n",
      "92\n",
      "93\n",
      "94\n",
      "95\n",
      "96\n",
      "97\n",
      "98\n",
      "99\n"
     ]
    }
   ],
   "source": [
    "for k in range(0, K):\n",
    "    print(k)\n",
    "    sys.stdout.flush()\n",
    "    idx_k = np.where(label == k)[0]\n",
    "    X_k = X[idx_k, :]\n",
    "    pd_k = pairwise_distances(X_k, metric='euclidean', n_jobs=10)\n",
    "    idx_k_keep = keep(pd_k, idx_k)\n",
    "    idx_keep.extend(idx_k_keep.tolist())"
   ]
  },
  {
   "cell_type": "code",
   "execution_count": 6,
   "metadata": {},
   "outputs": [],
   "source": [
    "idx_keep = np.sort(np.array(idx_keep)).astype('int')\n",
    "outfile = open('bgedv2_idx_nodup_K100_D1.0.txt', 'w')\n",
    "for idx in idx_keep:\n",
    "    outfile.write(str(idx) + '\\n')\n",
    "outfile.close()"
   ]
  },
  {
   "cell_type": "code",
   "execution_count": null,
   "metadata": {},
   "outputs": [],
   "source": []
  }
 ],
 "metadata": {
  "kernelspec": {
   "display_name": "Python 3",
   "language": "python",
   "name": "python3"
  },
  "language_info": {
   "codemirror_mode": {
    "name": "ipython",
    "version": 3
   },
   "file_extension": ".py",
   "mimetype": "text/x-python",
   "name": "python",
   "nbconvert_exporter": "python",
   "pygments_lexer": "ipython3",
   "version": "3.6.9"
  }
 },
 "nbformat": 4,
 "nbformat_minor": 4
}
