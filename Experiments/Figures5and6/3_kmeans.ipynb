{
 "cells": [
  {
   "cell_type": "code",
   "execution_count": 1,
   "metadata": {},
   "outputs": [],
   "source": [
    "import sys\n",
    "    \n",
    "import numpy as np\n",
    "from sklearn.cluster import MiniBatchKMeans"
   ]
  },
  {
   "cell_type": "code",
   "execution_count": 2,
   "metadata": {},
   "outputs": [],
   "source": [
    "BGEDV2_DATA = 'bgedv2_float32.npy'"
   ]
  },
  {
   "cell_type": "code",
   "execution_count": 3,
   "metadata": {},
   "outputs": [],
   "source": [
    "data = np.load(BGEDV2_DATA)"
   ]
  },
  {
   "cell_type": "code",
   "execution_count": 4,
   "metadata": {},
   "outputs": [],
   "source": [
    "X = data.transpose()"
   ]
  },
  {
   "cell_type": "code",
   "execution_count": 5,
   "metadata": {},
   "outputs": [],
   "source": [
    "X_rand = X[np.random.permutation(129158), :]"
   ]
  },
  {
   "cell_type": "code",
   "execution_count": 6,
   "metadata": {},
   "outputs": [],
   "source": [
    "km = MiniBatchKMeans(n_clusters=100, max_iter=10, batch_size=1000, verbose=1, compute_labels=False)"
   ]
  },
  {
   "cell_type": "code",
   "execution_count": 7,
   "metadata": {
    "scrolled": true
   },
   "outputs": [
    {
     "name": "stdout",
     "output_type": "stream",
     "text": [
      "Init 1/3 with method: k-means++\n",
      "Inertia for init 1/3: 48433436.000000\n",
      "Init 2/3 with method: k-means++\n",
      "Inertia for init 2/3: 48343544.000000\n",
      "Init 3/3 with method: k-means++\n",
      "Inertia for init 3/3: 48281412.000000\n",
      "Minibatch iteration 1/1300: mean batch inertia: 16527.912000, ewa inertia: 16527.912000 \n",
      "Minibatch iteration 2/1300: mean batch inertia: 16640.716000, ewa inertia: 16529.658746 \n",
      "Minibatch iteration 3/1300: mean batch inertia: 17058.688000, ewa inertia: 16537.850653 \n",
      "Minibatch iteration 4/1300: mean batch inertia: 16952.110000, ewa inertia: 16544.265372 \n",
      "Minibatch iteration 5/1300: mean batch inertia: 16704.824000, ewa inertia: 16546.751589 \n",
      "Minibatch iteration 6/1300: mean batch inertia: 16443.662000, ewa inertia: 16545.155268 \n",
      "Minibatch iteration 7/1300: mean batch inertia: 17003.510000, ewa inertia: 16552.252795 \n",
      "Minibatch iteration 8/1300: mean batch inertia: 16035.551000, ewa inertia: 16544.251776 \n",
      "Minibatch iteration 9/1300: mean batch inertia: 16484.270000, ewa inertia: 16543.322971 \n",
      "[MiniBatchKMeans] Reassigning 9 cluster centers.\n",
      "Minibatch iteration 10/1300: mean batch inertia: 16752.497000, ewa inertia: 16546.561987 \n",
      "Minibatch iteration 11/1300: mean batch inertia: 17162.682000, ewa inertia: 16556.102476 \n",
      "Converged (lack of improvement in inertia) at iteration 11/1300\n",
      "Computing label assignment and total inertia\n"
     ]
    }
   ],
   "source": [
    "km.fit(X_rand)\n",
    "label = km.predict(X)"
   ]
  },
  {
   "cell_type": "code",
   "execution_count": 8,
   "metadata": {},
   "outputs": [],
   "source": [
    "outfile = open('bgedv2_kmeans_100_label.txt', 'w')"
   ]
  },
  {
   "cell_type": "code",
   "execution_count": 9,
   "metadata": {},
   "outputs": [],
   "source": [
    "for l in label:\n",
    "    outfile.write(str(l) + '\\n')\n",
    "outfile.close()"
   ]
  },
  {
   "cell_type": "code",
   "execution_count": null,
   "metadata": {},
   "outputs": [],
   "source": []
  }
 ],
 "metadata": {
  "kernelspec": {
   "display_name": "Python 3",
   "language": "python",
   "name": "python3"
  },
  "language_info": {
   "codemirror_mode": {
    "name": "ipython",
    "version": 3
   },
   "file_extension": ".py",
   "mimetype": "text/x-python",
   "name": "python",
   "nbconvert_exporter": "python",
   "pygments_lexer": "ipython3",
   "version": "3.6.9"
  }
 },
 "nbformat": 4,
 "nbformat_minor": 4
}
